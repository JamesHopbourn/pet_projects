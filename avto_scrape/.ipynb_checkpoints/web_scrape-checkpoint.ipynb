{
 "cells": [
  {
   "cell_type": "code",
   "execution_count": 1,
   "metadata": {},
   "outputs": [],
   "source": [
    "import requests\n",
    "import urllib.request\n",
    "import time\n",
    "from bs4 import BeautifulSoup\n",
    "import numpy as np\n",
    "import re\n",
    "import matplotlib.pyplot as plt\n",
    "\n",
    "from sklearn.model_selection import train_test_split\n",
    "from sklearn.metrics import mean_squared_error\n",
    "from sklearn.model_selection import GridSearchCV"
   ]
  },
  {
   "cell_type": "code",
   "execution_count": 2,
   "metadata": {},
   "outputs": [],
   "source": [
    "url_list = [f'https://www.avto.net/Ads/results.asp?znamka=&model=&modelID=&tip=katerikoli%20tip&znamka2=&model2=&tip2=katerikoli%20tip&znamka3=&model3=&tip3=katerikoli%20tip&cenaMin=0&cenaMax=999999&letnikMin=2000&letnikMax=2090&bencin=201&starost2=999&oblika=0&ccmMin=0&ccmMax=99999&mocMin=&mocMax=&kmMin=0&kmMax=9999999&kwMin=0&kwMax=999&motortakt=&motorvalji=&lokacija=0&sirina=&dolzina=&dolzinaMIN=&dolzinaMAX=&nosilnostMIN=&nosilnostMAX=&lezisc=&presek=&premer=&col=&vijakov=&EToznaka=&vozilo=&airbag=&barva=&barvaint=&EQ1=1000000000&EQ2=1000000000&EQ3=1000000000&EQ4=100000000&EQ5=1000000000&EQ6=1000000000&EQ7=1000100120&EQ8=1010000001&EQ9=100000000&KAT=1010000000&PIA=&PIAzero=&PSLO=&akcija=&paketgarancije=&broker=&prikazkategorije=&kategorija=&zaloga=&arhiv=&presort=&tipsort=&stran={i}' for i in range(1,22)]"
   ]
  },
  {
   "cell_type": "code",
   "execution_count": 3,
   "metadata": {},
   "outputs": [],
   "source": [
    "headers = {\n",
    "    'User-Agent': '*',\n",
    "    'Accept': 'text/html,application/xhtml+xml,application/xml;q=0.9,*/*;q=0.8',\n",
    "    'Accept-Language': 'en-US,en;q=0.5',\n",
    "    'Accept-Encoding': 'gzip, deflate',\n",
    "    'Connection': 'keep-alive',\n",
    "    'Upgrade-Insecure-Requests': '1',\n",
    "}\n",
    "\n",
    "s = requests.Session()\n",
    "s.headers.update(headers)\n",
    "\n",
    "request_list = [s.get(url_list[i],allow_redirects=False) for i in range(len(url_list))]\n",
    "request_list = np.hstack(request_list)"
   ]
  },
  {
   "cell_type": "code",
   "execution_count": 4,
   "metadata": {},
   "outputs": [],
   "source": [
    "ci = []\n",
    "cif = []\n",
    "\n",
    "for r in request_list:\n",
    "    soup = BeautifulSoup(r.text, 'html.parser')\n",
    "    car_list = [\n",
    "        x for x in soup.find_all('div') if str(x).startswith('<div class=\"Res') and \n",
    "        'FOTO' in str(x) and \n",
    "        'DATA' in str(x) and\n",
    "        'CENA' in str(x)            \n",
    "    ]\n",
    "    for car in car_list:\n",
    "        try:\n",
    "            url = 'https://www.avto.net/' + re.findall(r'a class=\"Adlink\" href=\\\"([\\S  ]*)\\\"', str(car))[0][3:]\n",
    "            name = re.findall(f'title=\\\"([\\S  ]*)\\\"/>', str(car))[0]\n",
    "            year, mileage, volume, power, torque = [int(x) for x in re.findall(f'<li>Letnik 1.registracije:([\\w]*)</li>\\n<li>([\\w]*) km</li><li>bencinski motor, ([\\w]*) ccm, ([\\w]*) kW  / ([\\w]*) KM</li>', str(car))[0]]\n",
    "            price = int(re.findall(f'EUR=([\\w]*)', str(car))[0])\n",
    "            ci.append([name, year, mileage, volume, power, torque, price, url])\n",
    "        except:\n",
    "            cif.append(car)\n",
    "            \n",
    "ci = np.array(ci)\n",
    "cif = np.array(cif)"
   ]
  },
  {
   "cell_type": "code",
   "execution_count": 5,
   "metadata": {},
   "outputs": [],
   "source": [
    "mask  = (ci[:,3].astype(int) > 900) & (ci[:,3].astype(int) < 2000)\n",
    "mask &= (ci[:, -2].astype(int) > 0) & (ci[:, -2].astype(int) < 25000)\n",
    "mask &= (ci[:, 2].astype(int) < 400000)"
   ]
  },
  {
   "cell_type": "code",
   "execution_count": 6,
   "metadata": {},
   "outputs": [],
   "source": [
    "train, test = train_test_split(ci[mask], shuffle=True, test_size=0.2)"
   ]
  },
  {
   "cell_type": "code",
   "execution_count": 10,
   "metadata": {},
   "outputs": [
    {
     "data": {
      "text/plain": [
       "{'learning_rate': 0.1, 'max_depth': 2, 'n_estimators': 300, 'num_leaves': 5}"
      ]
     },
     "execution_count": 10,
     "metadata": {},
     "output_type": "execute_result"
    }
   ],
   "source": [
    "import lightgbm as lgbm\n",
    "lgbm_classifier = lgbm.LGBMRegressor()\n",
    "\n",
    "\n",
    "distributions = dict(\n",
    "    num_leaves = [5,10,20,30,50],\n",
    "    max_depth = [-1,1,2,3,4,5,6],\n",
    "    learning_rate = [0.005, 0.001, 0.05, 0.01, 0.1, 0.5],\n",
    "    n_estimators = [20,30,50,100,200,300,500]\n",
    ")\n",
    "\n",
    "\n",
    "clf = GridSearchCV(lgbm_classifier, distributions)\n",
    "search = clf.fit(train[:,1:-2].astype(int), train[:,-2].astype(int))\n",
    "search.best_params_"
   ]
  },
  {
   "cell_type": "code",
   "execution_count": 11,
   "metadata": {},
   "outputs": [],
   "source": [
    "model = search.best_estimator_"
   ]
  },
  {
   "cell_type": "code",
   "execution_count": 13,
   "metadata": {},
   "outputs": [],
   "source": [
    "pred = model.predict(test[:,1:-2].astype(int))"
   ]
  },
  {
   "cell_type": "code",
   "execution_count": 14,
   "metadata": {},
   "outputs": [
    {
     "data": {
      "text/plain": [
       "1249.0285047269888"
      ]
     },
     "execution_count": 14,
     "metadata": {},
     "output_type": "execute_result"
    }
   ],
   "source": [
    "mean_squared_error(test[:,-2].astype(int), pred)**0.5"
   ]
  },
  {
   "cell_type": "code",
   "execution_count": 15,
   "metadata": {},
   "outputs": [
    {
     "data": {
      "text/plain": [
       "array([7878.21784851])"
      ]
     },
     "execution_count": 15,
     "metadata": {},
     "output_type": "execute_result"
    }
   ],
   "source": [
    "model.predict([[2015,50000,1250,57,77]])"
   ]
  },
  {
   "cell_type": "code",
   "execution_count": null,
   "metadata": {},
   "outputs": [],
   "source": []
  }
 ],
 "metadata": {
  "kernelspec": {
   "display_name": "Python 3",
   "language": "python",
   "name": "python3"
  },
  "language_info": {
   "codemirror_mode": {
    "name": "ipython",
    "version": 3
   },
   "file_extension": ".py",
   "mimetype": "text/x-python",
   "name": "python",
   "nbconvert_exporter": "python",
   "pygments_lexer": "ipython3",
   "version": "3.7.5"
  }
 },
 "nbformat": 4,
 "nbformat_minor": 4
}
