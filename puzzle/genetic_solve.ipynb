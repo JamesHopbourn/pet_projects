{
 "cells": [
  {
   "cell_type": "code",
   "execution_count": 1,
   "metadata": {},
   "outputs": [],
   "source": [
    "import numpy as np\n",
    "import matplotlib.pyplot as plt\n",
    "\n",
    "import itertools\n",
    "import time\n",
    "import os\n",
    "\n",
    "import glob\n",
    "\n",
    "from natsort import natsorted\n",
    "from IPython.display import clear_output, display\n",
    "\n",
    "from tqdm.auto import tqdm\n",
    "\n",
    "from concurrent.futures import ProcessPoolExecutor, ThreadPoolExecutor"
   ]
  },
  {
   "cell_type": "code",
   "execution_count": 2,
   "metadata": {},
   "outputs": [],
   "source": [
    "fblocks = np.array([\n",
    "    [(0,0,0),(1,0,1),(2,0,0),(3,0,1),(4,0,0)],\n",
    "    [(0,0,0),(1,0,1),(2,0,0),(2,-1,1),(1,1,0)],\n",
    "    [(0,0,0),(1,0,1),(2,0,0),(0,1,1),(2,-1,1)],\n",
    "    [(0,0,0),(1,0,1),(2,0,0),(-1,0,1),(0,-1,1)],\n",
    "    [(0,0,0),(-1,0,1),(1,0,1),(0,1,1),(0,-1,1)],\n",
    "    [(0,0,1),(1,0,0),(2,0,1),(0,1,0),(0,-1,0)],\n",
    "    [(0,0,0),(1,0,1),(2,0,0),(3,0,1),(0,1,1)],\n",
    "    [(0,0,0),(0,1,1),(2,0,0),(2,1,1),(1,1,0)],\n",
    "    [(0,0,1),(1,0,0),(2,0,1),(0,1,0),(0,2,1)],\n",
    "    [(0,0,1),(-1,0,0),(0,1,0),(1,1,1),(2,1,0)],\n",
    "    [(0,0,0),(1,0,1),(0,1,1),(1,1,0),(-1,1,0)],\n",
    "    [(0,0,0),(1,0,1),(0,1,1),(1,1,0)],\n",
    "    [(0,0,0),(1,1,0),(2,2,0),(0,1,1),(1,2,1)]\n",
    "])\n",
    "\n",
    "\n",
    "board_size = 8\n",
    "\n",
    "#fblocks = np.array([\n",
    "#    [(0,0,0)],\n",
    "#    [(0,0,0),(-1,0,1),(0,-1,1)],\n",
    "#    [(0,0,0),(0,1,1),(0,2,0),(0,3,1)],\n",
    "#    [(0,0,0),(-1,0,1),(0,-1,1),(0,-2,0)],\n",
    "#    [(0,0,1),(-1,0,0),(0,-1,0),(0,-2,1)],\n",
    "#    [(0,0,0),(0,1,1),(0,2,0),(0,3,1)],\n",
    "#    [(0,0,0),(0,1,1),(0,2,0)],\n",
    "#    [(0,0,1),(0,1,0)]\n",
    "#])\n",
    "#\n",
    "#board_size = 5\n",
    "\n",
    "blocks = []\n",
    "for block in fblocks:\n",
    "    blocks.append(np.array(block))\n",
    "fblocks = np.array(blocks).copy()\n",
    "\n",
    "dcol = np.random.rand(len(fblocks),3)"
   ]
  },
  {
   "cell_type": "code",
   "execution_count": 62,
   "metadata": {},
   "outputs": [
    {
     "data": {
      "text/plain": [
       "array([[0, 0],\n",
       "       [1, 0],\n",
       "       [2, 0],\n",
       "       [3, 0],\n",
       "       [4, 0]])"
      ]
     },
     "execution_count": 62,
     "metadata": {},
     "output_type": "execute_result"
    }
   ],
   "source": [
    "fblocks[0][...,:-1]"
   ]
  },
  {
   "cell_type": "code",
   "execution_count": 72,
   "metadata": {},
   "outputs": [],
   "source": [
    "def rotation(block, rot=0):\n",
    "    block = block.copy()\n",
    "    rblock = block[...,:-1]\n",
    "    if rot==0:\n",
    "        rblock = np.array(list(map(lambda x : [x[0],x[1]], rblock)))\n",
    "    elif rot==1:\n",
    "        rblock = np.array(list(map(lambda x : [x[1],-x[0]], rblock)))\n",
    "    elif rot==2:\n",
    "        rblock = np.array(list(map(lambda x : [-x[0],-x[1]], rblock)))\n",
    "    else:\n",
    "        rblock = np.array(list(map(lambda x : [-x[1],x[0]], rblock)))\n",
    "    block[...,:-1] = rblock\n",
    "    return block\n",
    "\n",
    "def translation(block, vector):\n",
    "    block = block.copy()\n",
    "    rblock = block[...,:-1]\n",
    "    rblock = np.array(list(map(lambda x : x + vector, rblock)))\n",
    "    block[...,:-1] = rblock\n",
    "    return block\n",
    "\n",
    "def mirroring(block, mirror):\n",
    "    block = block.copy()\n",
    "    rblock = block[...,:-1]\n",
    "    if mirror:\n",
    "        rblock = np.array(list(map(lambda x : [-x[0],x[1]], rblock)))\n",
    "    block[...,:-1] = rblock\n",
    "    return block"
   ]
  },
  {
   "cell_type": "code",
   "execution_count": 75,
   "metadata": {},
   "outputs": [],
   "source": [
    "def move_block(block, setting):\n",
    "    block = mirroring(block,setting[-1])\n",
    "    block = rotation(block,setting[-2])\n",
    "    block = translation(block,setting[:-2])\n",
    "    return block\n",
    "\n",
    "def move_blocks(gnome):\n",
    "    return np.array([move_block(block, all_combs[gene]) for block, gene in zip(fblocks, gnome)])\n",
    "\n",
    "def plot_block(block, setting = [0,0,0,0], *args, **kwargs):\n",
    "    block = move_block(block, setting)\n",
    "    mask = block[...,-1] == 0\n",
    "    plt.plot(block[mask,0], block[mask,1], marker='s', fillstyle='top', linewidth=0, *args, **kwargs)\n",
    "    plt.plot(block[~mask,0], block[~mask,1], marker='s', fillstyle='bottom', linewidth=0, *args, **kwargs)\n",
    "    \n",
    "def plot_blocks(blocks, settings = None, filename = None, *args, **kwargs):\n",
    "    fig = plt.figure(figsize=(10,10))\n",
    "    edges = np.array([[0,0], [0,board_size-1], [board_size-1,board_size-1], [board_size-1,0], [0,0]])\n",
    "    plt.plot(edges[:,0], edges[:,1], color='r')\n",
    "    for idx,block in enumerate(blocks):\n",
    "        setting = [0,0,0,0] if settings is None else settings[idx]\n",
    "        plot_block(block, setting, markersize=40, color = dcol[idx])\n",
    "    plt.xlim(-1, board_size)\n",
    "    plt.ylim(-1, board_size)\n",
    "    \n",
    "    if filename is not None:\n",
    "        plt.savefig(f'images/{filename}', bbox_inches='tight', dpi=100)\n",
    "        plt.close(fig)"
   ]
  },
  {
   "cell_type": "code",
   "execution_count": 76,
   "metadata": {},
   "outputs": [
    {
     "data": {
      "image/png": "[encoded data removed]",
      "text/plain": [
       "<Figure size 720x720 with 1 Axes>"
      ]
     },
     "metadata": {
      "needs_background": "light"
     },
     "output_type": "display_data"
    }
   ],
   "source": [
    "vecs = [np.random.randint(-1,board_size,2) for i in range(len(fblocks))]\n",
    "rots = [np.random.randint(0,4) for i in range(len(fblocks))]\n",
    "mirrs = [np.random.randint(0,1) for i in range(len(fblocks))]\n",
    "\n",
    "settings = [(*vec, rot, mirr) for vec,rot,mirr in zip(vecs,rots,mirrs)]\n",
    "\n",
    "plot_blocks(fblocks, settings)"
   ]
  },
  {
   "cell_type": "code",
   "execution_count": 77,
   "metadata": {},
   "outputs": [],
   "source": [
    "# brute force it\n",
    "brute_positions_x = np.array(list(range(board_size)))\n",
    "brute_positions_y = brute_positions_x\n",
    "brute_rotations = np.array(list(range(4)))\n",
    "brute_mirrors = np.array(list(range(2)))\n",
    "\n",
    "iterables = [brute_positions_x, brute_positions_y, brute_rotations, brute_mirrors]\n",
    "\n",
    "all_combs = np.array(list(itertools.product(*iterables)))"
   ]
  },
  {
   "cell_type": "code",
   "execution_count": 78,
   "metadata": {},
   "outputs": [],
   "source": [
    "def board_count(blocks):\n",
    "    rblocks = np.array([block[...,:-1] for block in blocks])\n",
    "    flats = np.concatenate(rblocks, axis=0)\n",
    "    \n",
    "    edges = [any(coord < 0 for coord in block) or any(coord >= board_size for coord in block) for block in flats]\n",
    "    return np.count_nonzero(edges)\n",
    "    \n",
    "\n",
    "def duplication_count(blocks):\n",
    "    rblocks = np.array([block[...,:-1] for block in blocks])\n",
    "    flats = np.concatenate(rblocks)\n",
    "    mat = np.zeros((board_size, board_size))\n",
    "    for pos in flats:\n",
    "        x, y = pos\n",
    "        if x < 0 or x >= board_size or y < 0 or y >= board_size:\n",
    "            continue\n",
    "        mat[pos[0]][pos[1]] += 1\n",
    "        \n",
    "    nflats = mat.ravel()\n",
    "    dcount = 0\n",
    "    for n in nflats:\n",
    "        if n > 1:\n",
    "            dcount += n\n",
    "            \n",
    "    return int(dcount)\n",
    "\n",
    "def single_check(case):\n",
    "        if np.sum(case[:-1]) % 2 != case[-1]:\n",
    "            return False\n",
    "        return True\n",
    "\n",
    "def fillstyle_count(blocks):\n",
    "    flats = np.concatenate(blocks, axis=0)\n",
    "    dcount = 0\n",
    "    for case in flats:\n",
    "        if not single_check(case):\n",
    "            dcount += 1\n",
    "    return dcount\n",
    "\n",
    "def fitness_function(blocks):\n",
    "    return board_count(blocks) + duplication_count(blocks) + fillstyle_count(blocks)"
   ]
  },
  {
   "cell_type": "code",
   "execution_count": 79,
   "metadata": {},
   "outputs": [
    {
     "data": {
      "image/png": "[encoded data removed]",
      "text/plain": [
       "<Figure size 720x720 with 1 Axes>"
      ]
     },
     "metadata": {
      "needs_background": "light"
     },
     "output_type": "display_data"
    }
   ],
   "source": [
    "plot_blocks(fblocks)"
   ]
  },
  {
   "cell_type": "code",
   "execution_count": 95,
   "metadata": {},
   "outputs": [],
   "source": [
    "# Number of individuals in each generation \n",
    "NPOP = 50\n",
    "NGENES = len(all_combs)\n",
    "NGNOMES = len(fblocks)\n",
    "\n",
    "class Individual(object): \n",
    "    ''' \n",
    "    Class representing individual in population \n",
    "    '''\n",
    "    def __init__(self, chromosome): \n",
    "        self.chromosome = np.array(chromosome)\n",
    "        self.fitness = self.cal_fitness() \n",
    "\n",
    "    @classmethod\n",
    "    def mutated_genes(self): \n",
    "        ''' \n",
    "        create random genes for mutation \n",
    "        '''\n",
    "        return np.random.randint(0,NGENES)\n",
    "\n",
    "    @classmethod\n",
    "    def create_gnome(self): \n",
    "        ''' \n",
    "        create chromosome or string of genes \n",
    "        '''\n",
    "        return np.random.randint(0, NGENES, NGNOMES)\n",
    "    \n",
    "    @staticmethod\n",
    "    def swap_genes(chromosome, pair_swap):\n",
    "        '''\n",
    "        switch two genes in the chromosome\n",
    "        '''\n",
    "        gnome = chromosome.copy()\n",
    "        gnome[pair_swap] = gnome[np.flip(pair_swap)]\n",
    "        return gnome        \n",
    "\n",
    "    def mate(self, par2): \n",
    "        ''' \n",
    "        Perform mating and produce new offspring \n",
    "        '''\n",
    "        # chromosome for offspring \n",
    "        child_chromosome = []\n",
    "        prob = np.random.rand(len(fblocks))\n",
    "        for g1, g2, p in zip(self.chromosome, par2.chromosome, prob): \n",
    "            if p < 0.45:\n",
    "                child_chromosome.append(g1)\n",
    "            elif p < 0.9:\n",
    "                child_chromosome.append(g2)\n",
    "            else:\n",
    "                child_chromosome.append(self.mutated_genes())\n",
    "        child_chromosome = np.array(child_chromosome)\n",
    "                \n",
    "        # do random swap of genes\n",
    "        for _ in range(int(np.random.exponential(2))):\n",
    "            swap_pair = np.random.randint(0, len(fblocks), 2)\n",
    "            child_chromosome = self.swap_genes(child_chromosome, swap_pair)\n",
    "\n",
    "        # create new Individual(offspring) using \n",
    "        # generated chromosome for offspring \n",
    "        return Individual(child_chromosome) \n",
    "\n",
    "    def cal_fitness(self): \n",
    "        ''' \n",
    "        Calculate fittness score, it is the number of \n",
    "        characters in string which differ from target \n",
    "        string. \n",
    "        '''\n",
    "        blocks = move_blocks(self.chromosome)\n",
    "        return fitness_function(blocks)"
   ]
  },
  {
   "cell_type": "code",
   "execution_count": 96,
   "metadata": {},
   "outputs": [],
   "source": [
    "# Driver code \n",
    "def main():\n",
    "\n",
    "    #current generation \n",
    "    generation = 1\n",
    "\n",
    "    found = False\n",
    "    population = [Individual(Individual.create_gnome()) for i in range(int(NPOP))]\n",
    "\n",
    "    while not found: \n",
    "        population = sorted(population, key = lambda x:x.fitness) \n",
    "\n",
    "        # if the individual having lowest fitness score ie. \n",
    "        # 0 then we know that we have reached to the target \n",
    "        # and break the loop \n",
    "        if population[0].fitness <= 0: \n",
    "            found = True\n",
    "            break\n",
    "\n",
    "        # Otherwise generate new offsprings for new generation \n",
    "        new_generation = [] \n",
    "\n",
    "        # Perform Elitism, that mean 10% of fittest population \n",
    "        # goes to the next generation \n",
    "        s1, s2, s3 = int(0.1*NPOP), int(0.5*NPOP), int(0.4*NPOP) \n",
    "        new_generation.extend(population[:s1]) \n",
    "\n",
    "        for _ in range(s2): \n",
    "            parent1 = np.random.choice(population[:int(0.5*NPOP)]) \n",
    "            parent2 = np.random.choice(population[:int(0.5*NPOP)]) \n",
    "            child = parent1.mate(parent2) \n",
    "            new_generation.append(child) \n",
    "            \n",
    "        new_generation.extend([Individual(Individual.create_gnome()) for i in range(s3)])\n",
    "        population = new_generation \n",
    "\n",
    "        if generation % 10 == 0:\n",
    "            print(\"Generation: {}\\tChromosome: {}\\tFitness: {}\".format(generation, ','.join([str(x) for x in population[0].chromosome]), population[0].fitness), flush=True) \n",
    "\n",
    "        generation += 1\n",
    "    return population[0]"
   ]
  },
  {
   "cell_type": "code",
   "execution_count": 97,
   "metadata": {},
   "outputs": [
    {
     "name": "stdout",
     "output_type": "stream",
     "text": [
      "Generation: 10\tChromosome: 1,390,435,110,377,198,89,160,442,285,509,474,310\tFitness: 33\n",
      "Generation: 20\tChromosome: 1,390,89,494,377,198,479,160,29,285,380,474,310\tFitness: 30\n",
      "Generation: 30\tChromosome: 377,377,89,494,377,198,479,160,29,414,380,474,390\tFitness: 29\n",
      "Generation: 40\tChromosome: 123,55,123,21,160,198,95,386,465,442,272,380,310\tFitness: 28\n",
      "Generation: 50\tChromosome: 123,55,123,21,160,198,95,386,465,442,272,380,310\tFitness: 28\n",
      "Generation: 60\tChromosome: 55,377,89,494,160,198,204,160,440,414,380,474,390\tFitness: 27\n",
      "Generation: 70\tChromosome: 55,377,89,494,160,198,204,160,440,414,380,474,390\tFitness: 27\n",
      "Generation: 80\tChromosome: 55,377,89,494,160,198,204,160,440,414,380,474,390\tFitness: 27\n",
      "Generation: 90\tChromosome: 123,55,123,21,160,198,95,160,465,442,272,380,390\tFitness: 26\n",
      "Generation: 100\tChromosome: 123,55,123,21,160,198,95,160,465,442,272,380,390\tFitness: 26\n",
      "Generation: 110\tChromosome: 123,55,123,21,160,198,95,160,465,442,272,380,390\tFitness: 26\n",
      "Generation: 120\tChromosome: 123,55,123,21,160,198,95,160,465,442,272,380,390\tFitness: 26\n",
      "Generation: 130\tChromosome: 123,55,123,21,160,198,95,160,465,442,272,380,390\tFitness: 26\n",
      "Generation: 140\tChromosome: 123,55,123,21,160,198,95,160,465,442,272,380,390\tFitness: 26\n",
      "Generation: 150\tChromosome: 123,55,123,21,160,198,95,160,465,442,272,380,390\tFitness: 26\n",
      "Generation: 160\tChromosome: 123,21,123,55,160,198,95,160,465,442,272,380,390\tFitness: 24\n",
      "Generation: 170\tChromosome: 123,21,123,55,160,198,95,160,465,442,272,380,390\tFitness: 24\n",
      "Generation: 180\tChromosome: 123,21,123,55,160,198,95,160,465,442,272,380,390\tFitness: 24\n",
      "Generation: 190\tChromosome: 123,21,123,55,160,198,95,160,465,442,272,380,390\tFitness: 24\n",
      "Generation: 200\tChromosome: 123,21,123,55,160,198,95,160,465,442,272,380,390\tFitness: 24\n",
      "Generation: 210\tChromosome: 123,21,123,55,160,198,95,160,465,442,272,380,390\tFitness: 24\n",
      "Generation: 220\tChromosome: 123,21,123,55,160,198,95,160,465,442,272,380,390\tFitness: 24\n",
      "Generation: 230\tChromosome: 123,21,123,55,160,198,95,160,465,442,272,380,390\tFitness: 24\n",
      "Generation: 240\tChromosome: 123,21,123,55,160,198,95,160,465,442,272,380,390\tFitness: 24\n",
      "Generation: 250\tChromosome: 123,21,123,55,160,198,95,160,465,442,272,380,390\tFitness: 24\n",
      "Generation: 260\tChromosome: 123,21,123,55,160,198,95,160,465,442,272,380,390\tFitness: 24\n",
      "Generation: 270\tChromosome: 123,21,123,55,160,198,95,160,465,442,272,380,390\tFitness: 24\n",
      "Generation: 280\tChromosome: 123,21,123,55,160,198,95,160,465,442,272,380,390\tFitness: 24\n",
      "Generation: 290\tChromosome: 123,21,123,55,77,198,95,160,465,503,272,380,390\tFitness: 21\n",
      "Generation: 300\tChromosome: 123,21,123,55,77,198,95,160,465,503,272,380,390\tFitness: 21\n",
      "Generation: 310\tChromosome: 123,21,123,55,77,198,95,160,465,503,272,380,390\tFitness: 21\n",
      "Generation: 320\tChromosome: 123,21,123,55,77,198,95,160,465,503,272,380,390\tFitness: 21\n",
      "Generation: 330\tChromosome: 123,21,123,55,77,198,95,160,465,503,272,380,390\tFitness: 21\n",
      "Generation: 340\tChromosome: 123,21,123,55,77,198,95,160,465,503,272,380,390\tFitness: 21\n",
      "Generation: 350\tChromosome: 123,21,123,55,77,198,95,160,465,503,272,380,390\tFitness: 21\n",
      "Generation: 360\tChromosome: 123,21,123,55,77,198,95,160,465,503,272,380,390\tFitness: 21\n",
      "Generation: 370\tChromosome: 123,21,123,55,77,198,95,160,465,503,272,380,390\tFitness: 21\n",
      "Generation: 380\tChromosome: 123,21,123,55,77,198,95,160,465,503,272,380,390\tFitness: 21\n",
      "Generation: 390\tChromosome: 123,21,123,55,77,198,95,160,465,503,272,380,390\tFitness: 21\n",
      "Generation: 400\tChromosome: 123,21,123,55,77,198,95,160,465,503,272,380,390\tFitness: 21\n",
      "Generation: 410\tChromosome: 123,21,123,55,77,198,95,160,465,503,272,380,390\tFitness: 21\n",
      "Generation: 420\tChromosome: 123,21,123,55,77,198,95,160,465,503,272,380,390\tFitness: 21\n",
      "Generation: 430\tChromosome: 123,21,123,55,77,198,95,160,465,503,272,380,390\tFitness: 21\n",
      "Generation: 440\tChromosome: 78,21,123,55,77,198,95,160,465,503,272,380,390\tFitness: 19\n",
      "Generation: 450\tChromosome: 78,21,123,55,77,198,95,160,465,503,272,380,390\tFitness: 19\n",
      "Generation: 460\tChromosome: 78,21,123,55,77,198,95,160,465,503,272,380,390\tFitness: 19\n",
      "Generation: 470\tChromosome: 78,21,123,55,77,198,95,160,465,503,272,380,390\tFitness: 19\n",
      "Generation: 480\tChromosome: 78,21,123,55,77,198,95,160,465,503,272,380,390\tFitness: 19\n",
      "Generation: 490\tChromosome: 78,21,123,55,77,198,95,160,465,503,272,380,390\tFitness: 19\n",
      "Generation: 500\tChromosome: 78,21,123,55,77,198,95,160,465,503,272,380,390\tFitness: 19\n",
      "Generation: 510\tChromosome: 78,21,123,55,77,198,95,160,465,503,272,380,390\tFitness: 19\n",
      "Generation: 520\tChromosome: 78,21,123,55,77,198,95,160,465,503,272,380,390\tFitness: 19\n",
      "Generation: 530\tChromosome: 78,21,123,55,77,198,95,160,465,503,272,380,390\tFitness: 19\n",
      "Generation: 540\tChromosome: 78,21,123,55,77,198,95,160,465,503,272,380,390\tFitness: 19\n",
      "Generation: 550\tChromosome: 78,21,123,55,77,198,95,160,465,503,272,380,390\tFitness: 19\n",
      "Generation: 560\tChromosome: 78,21,123,55,77,198,95,160,465,503,272,380,390\tFitness: 19\n",
      "Generation: 570\tChromosome: 78,21,123,55,77,198,95,160,465,503,272,380,390\tFitness: 19\n",
      "Generation: 580\tChromosome: 78,21,123,55,77,198,384,160,465,503,272,380,390\tFitness: 17\n",
      "Generation: 590\tChromosome: 78,21,123,55,77,198,384,160,465,503,272,380,390\tFitness: 17\n",
      "Generation: 600\tChromosome: 78,21,123,55,77,198,384,160,465,503,272,380,390\tFitness: 17\n",
      "Generation: 610\tChromosome: 78,21,123,55,77,198,384,160,465,503,272,380,390\tFitness: 17\n",
      "Generation: 620\tChromosome: 78,21,123,55,77,198,384,160,465,503,272,380,390\tFitness: 17\n",
      "Generation: 630\tChromosome: 78,21,123,55,77,198,384,160,465,503,272,380,390\tFitness: 17\n",
      "Generation: 640\tChromosome: 78,21,123,55,77,198,384,160,465,503,272,380,390\tFitness: 17\n",
      "Generation: 650\tChromosome: 78,21,123,55,77,198,384,160,465,503,272,380,390\tFitness: 17\n",
      "Generation: 660\tChromosome: 78,21,123,55,77,198,384,160,465,503,272,380,390\tFitness: 17\n",
      "Generation: 670\tChromosome: 78,21,123,55,77,198,384,160,465,503,272,380,390\tFitness: 17\n",
      "Generation: 680\tChromosome: 78,21,123,55,77,198,384,160,465,503,272,380,390\tFitness: 17\n",
      "Generation: 690\tChromosome: 78,21,123,55,77,198,384,160,465,503,272,380,390\tFitness: 17\n",
      "Generation: 700\tChromosome: 78,21,123,55,77,198,384,160,465,503,272,380,390\tFitness: 17\n",
      "Generation: 710\tChromosome: 78,21,123,55,77,198,384,160,465,503,272,380,390\tFitness: 17\n",
      "Generation: 720\tChromosome: 78,21,123,55,77,198,384,160,465,503,272,380,390\tFitness: 17\n",
      "Generation: 730\tChromosome: 78,21,123,55,77,198,384,160,465,503,272,380,390\tFitness: 17\n",
      "Generation: 740\tChromosome: 78,21,123,55,77,198,384,160,465,503,272,380,390\tFitness: 17\n",
      "Generation: 750\tChromosome: 78,21,123,55,77,198,384,160,465,503,272,380,390\tFitness: 17\n",
      "Generation: 760\tChromosome: 78,21,123,55,77,198,384,160,465,503,272,380,390\tFitness: 17\n",
      "Generation: 770\tChromosome: 78,21,123,55,77,198,384,160,465,503,272,380,390\tFitness: 17\n",
      "Generation: 780\tChromosome: 78,21,123,55,77,198,384,160,465,503,272,380,390\tFitness: 17\n",
      "Generation: 790\tChromosome: 78,21,123,55,77,198,384,160,465,503,272,380,390\tFitness: 17\n",
      "Generation: 800\tChromosome: 78,21,123,55,77,198,384,160,465,503,272,380,390\tFitness: 17\n",
      "Generation: 810\tChromosome: 78,21,123,55,77,198,384,160,465,503,272,380,390\tFitness: 17\n",
      "Generation: 820\tChromosome: 78,21,123,55,77,198,384,160,465,503,272,380,390\tFitness: 17\n",
      "Generation: 830\tChromosome: 78,21,123,55,77,198,384,160,465,503,272,380,390\tFitness: 17\n",
      "Generation: 840\tChromosome: 78,21,123,55,77,198,384,160,465,503,272,380,390\tFitness: 17\n",
      "Generation: 850\tChromosome: 78,21,123,55,77,198,384,160,465,503,272,380,390\tFitness: 17\n",
      "Generation: 860\tChromosome: 78,21,123,55,77,198,384,160,465,503,272,380,390\tFitness: 17\n",
      "Generation: 870\tChromosome: 78,21,123,55,77,198,384,160,465,503,272,380,390\tFitness: 17\n",
      "Generation: 880\tChromosome: 78,21,123,55,77,198,384,160,465,503,272,380,390\tFitness: 17\n",
      "Generation: 890\tChromosome: 78,21,123,55,77,198,384,160,465,503,272,380,390\tFitness: 17\n",
      "Generation: 900\tChromosome: 78,21,123,55,77,198,384,160,465,503,272,380,390\tFitness: 17\n",
      "Generation: 910\tChromosome: 78,21,123,55,77,198,384,160,465,503,272,380,390\tFitness: 17\n",
      "Generation: 920\tChromosome: 78,21,123,55,77,198,384,160,465,503,272,380,390\tFitness: 17\n",
      "Generation: 930\tChromosome: 78,21,123,55,77,198,384,160,465,503,272,380,390\tFitness: 17\n",
      "Generation: 940\tChromosome: 78,21,123,55,77,198,384,160,465,503,272,380,390\tFitness: 17\n",
      "Generation: 950\tChromosome: 78,21,123,55,77,198,384,160,465,503,272,380,390\tFitness: 17\n",
      "Generation: 960\tChromosome: 78,21,123,55,77,198,384,160,465,503,272,380,390\tFitness: 17\n",
      "Generation: 970\tChromosome: 78,21,123,55,77,198,384,160,465,503,272,380,390\tFitness: 17\n",
      "Generation: 980\tChromosome: 78,21,123,55,77,198,384,160,465,503,272,380,390\tFitness: 17\n",
      "Generation: 990\tChromosome: 78,21,123,55,77,198,384,160,465,503,272,380,390\tFitness: 17\n",
      "Generation: 1000\tChromosome: 78,21,123,55,77,198,384,160,465,503,272,380,390\tFitness: 17\n",
      "Generation: 1010\tChromosome: 78,21,123,55,77,198,384,160,465,503,272,380,390\tFitness: 17\n",
      "Generation: 1020\tChromosome: 78,21,123,55,77,198,384,160,465,503,272,380,390\tFitness: 17\n"
     ]
    },
    {
     "ename": "KeyboardInterrupt",
     "evalue": "",
     "output_type": "error",
     "traceback": [
      "\u001b[0;31m---------------------------------------------------------------------------\u001b[0m",
      "\u001b[0;31mKeyboardInterrupt\u001b[0m                         Traceback (most recent call last)",
      "\u001b[0;32m<ipython-input-97-03d27f86d8a6>\u001b[0m in \u001b[0;36m<module>\u001b[0;34m\u001b[0m\n\u001b[0;32m----> 1\u001b[0;31m \u001b[0mresult\u001b[0m \u001b[0;34m=\u001b[0m \u001b[0mmain\u001b[0m\u001b[0;34m(\u001b[0m\u001b[0;34m)\u001b[0m\u001b[0;34m\u001b[0m\u001b[0;34m\u001b[0m\u001b[0m\n\u001b[0m",
      "\u001b[0;32m<ipython-input-96-29ac61e074e1>\u001b[0m in \u001b[0;36mmain\u001b[0;34m()\u001b[0m\n\u001b[1;32m     29\u001b[0m             \u001b[0mparent1\u001b[0m \u001b[0;34m=\u001b[0m \u001b[0mnp\u001b[0m\u001b[0;34m.\u001b[0m\u001b[0mrandom\u001b[0m\u001b[0;34m.\u001b[0m\u001b[0mchoice\u001b[0m\u001b[0;34m(\u001b[0m\u001b[0mpopulation\u001b[0m\u001b[0;34m[\u001b[0m\u001b[0;34m:\u001b[0m\u001b[0mint\u001b[0m\u001b[0;34m(\u001b[0m\u001b[0;36m0.5\u001b[0m\u001b[0;34m*\u001b[0m\u001b[0mNPOP\u001b[0m\u001b[0;34m)\u001b[0m\u001b[0;34m]\u001b[0m\u001b[0;34m)\u001b[0m\u001b[0;34m\u001b[0m\u001b[0;34m\u001b[0m\u001b[0m\n\u001b[1;32m     30\u001b[0m             \u001b[0mparent2\u001b[0m \u001b[0;34m=\u001b[0m \u001b[0mnp\u001b[0m\u001b[0;34m.\u001b[0m\u001b[0mrandom\u001b[0m\u001b[0;34m.\u001b[0m\u001b[0mchoice\u001b[0m\u001b[0;34m(\u001b[0m\u001b[0mpopulation\u001b[0m\u001b[0;34m[\u001b[0m\u001b[0;34m:\u001b[0m\u001b[0mint\u001b[0m\u001b[0;34m(\u001b[0m\u001b[0;36m0.5\u001b[0m\u001b[0;34m*\u001b[0m\u001b[0mNPOP\u001b[0m\u001b[0;34m)\u001b[0m\u001b[0;34m]\u001b[0m\u001b[0;34m)\u001b[0m\u001b[0;34m\u001b[0m\u001b[0;34m\u001b[0m\u001b[0m\n\u001b[0;32m---> 31\u001b[0;31m             \u001b[0mchild\u001b[0m \u001b[0;34m=\u001b[0m \u001b[0mparent1\u001b[0m\u001b[0;34m.\u001b[0m\u001b[0mmate\u001b[0m\u001b[0;34m(\u001b[0m\u001b[0mparent2\u001b[0m\u001b[0;34m)\u001b[0m\u001b[0;34m\u001b[0m\u001b[0;34m\u001b[0m\u001b[0m\n\u001b[0m\u001b[1;32m     32\u001b[0m             \u001b[0mnew_generation\u001b[0m\u001b[0;34m.\u001b[0m\u001b[0mappend\u001b[0m\u001b[0;34m(\u001b[0m\u001b[0mchild\u001b[0m\u001b[0;34m)\u001b[0m\u001b[0;34m\u001b[0m\u001b[0;34m\u001b[0m\u001b[0m\n\u001b[1;32m     33\u001b[0m \u001b[0;34m\u001b[0m\u001b[0m\n",
      "\u001b[0;32m<ipython-input-95-6ba7fabc2439>\u001b[0m in \u001b[0;36mmate\u001b[0;34m(self, par2)\u001b[0m\n\u001b[1;32m     58\u001b[0m         \u001b[0;31m# create new Individual(offspring) using\u001b[0m\u001b[0;34m\u001b[0m\u001b[0;34m\u001b[0m\u001b[0;34m\u001b[0m\u001b[0m\n\u001b[1;32m     59\u001b[0m         \u001b[0;31m# generated chromosome for offspring\u001b[0m\u001b[0;34m\u001b[0m\u001b[0;34m\u001b[0m\u001b[0;34m\u001b[0m\u001b[0m\n\u001b[0;32m---> 60\u001b[0;31m         \u001b[0;32mreturn\u001b[0m \u001b[0mIndividual\u001b[0m\u001b[0;34m(\u001b[0m\u001b[0mchild_chromosome\u001b[0m\u001b[0;34m)\u001b[0m\u001b[0;34m\u001b[0m\u001b[0;34m\u001b[0m\u001b[0m\n\u001b[0m\u001b[1;32m     61\u001b[0m \u001b[0;34m\u001b[0m\u001b[0m\n\u001b[1;32m     62\u001b[0m     \u001b[0;32mdef\u001b[0m \u001b[0mcal_fitness\u001b[0m\u001b[0;34m(\u001b[0m\u001b[0mself\u001b[0m\u001b[0;34m)\u001b[0m\u001b[0;34m:\u001b[0m\u001b[0;34m\u001b[0m\u001b[0;34m\u001b[0m\u001b[0m\n",
      "\u001b[0;32m<ipython-input-95-6ba7fabc2439>\u001b[0m in \u001b[0;36m__init__\u001b[0;34m(self, chromosome)\u001b[0m\n\u001b[1;32m     10\u001b[0m     \u001b[0;32mdef\u001b[0m \u001b[0m__init__\u001b[0m\u001b[0;34m(\u001b[0m\u001b[0mself\u001b[0m\u001b[0;34m,\u001b[0m \u001b[0mchromosome\u001b[0m\u001b[0;34m)\u001b[0m\u001b[0;34m:\u001b[0m\u001b[0;34m\u001b[0m\u001b[0;34m\u001b[0m\u001b[0m\n\u001b[1;32m     11\u001b[0m         \u001b[0mself\u001b[0m\u001b[0;34m.\u001b[0m\u001b[0mchromosome\u001b[0m \u001b[0;34m=\u001b[0m \u001b[0mnp\u001b[0m\u001b[0;34m.\u001b[0m\u001b[0marray\u001b[0m\u001b[0;34m(\u001b[0m\u001b[0mchromosome\u001b[0m\u001b[0;34m)\u001b[0m\u001b[0;34m\u001b[0m\u001b[0;34m\u001b[0m\u001b[0m\n\u001b[0;32m---> 12\u001b[0;31m         \u001b[0mself\u001b[0m\u001b[0;34m.\u001b[0m\u001b[0mfitness\u001b[0m \u001b[0;34m=\u001b[0m \u001b[0mself\u001b[0m\u001b[0;34m.\u001b[0m\u001b[0mcal_fitness\u001b[0m\u001b[0;34m(\u001b[0m\u001b[0;34m)\u001b[0m\u001b[0;34m\u001b[0m\u001b[0;34m\u001b[0m\u001b[0m\n\u001b[0m\u001b[1;32m     13\u001b[0m \u001b[0;34m\u001b[0m\u001b[0m\n\u001b[1;32m     14\u001b[0m     \u001b[0;34m@\u001b[0m\u001b[0mclassmethod\u001b[0m\u001b[0;34m\u001b[0m\u001b[0;34m\u001b[0m\u001b[0m\n",
      "\u001b[0;32m<ipython-input-95-6ba7fabc2439>\u001b[0m in \u001b[0;36mcal_fitness\u001b[0;34m(self)\u001b[0m\n\u001b[1;32m     67\u001b[0m         '''\n\u001b[1;32m     68\u001b[0m         \u001b[0mblocks\u001b[0m \u001b[0;34m=\u001b[0m \u001b[0mmove_blocks\u001b[0m\u001b[0;34m(\u001b[0m\u001b[0mself\u001b[0m\u001b[0;34m.\u001b[0m\u001b[0mchromosome\u001b[0m\u001b[0;34m)\u001b[0m\u001b[0;34m\u001b[0m\u001b[0;34m\u001b[0m\u001b[0m\n\u001b[0;32m---> 69\u001b[0;31m         \u001b[0;32mreturn\u001b[0m \u001b[0mfitness_function\u001b[0m\u001b[0;34m(\u001b[0m\u001b[0mblocks\u001b[0m\u001b[0;34m)\u001b[0m\u001b[0;34m\u001b[0m\u001b[0;34m\u001b[0m\u001b[0m\n\u001b[0m",
      "\u001b[0;32m<ipython-input-78-798cade6e7fd>\u001b[0m in \u001b[0;36mfitness_function\u001b[0;34m(blocks)\u001b[0m\n\u001b[1;32m     39\u001b[0m \u001b[0;34m\u001b[0m\u001b[0m\n\u001b[1;32m     40\u001b[0m \u001b[0;32mdef\u001b[0m \u001b[0mfitness_function\u001b[0m\u001b[0;34m(\u001b[0m\u001b[0mblocks\u001b[0m\u001b[0;34m)\u001b[0m\u001b[0;34m:\u001b[0m\u001b[0;34m\u001b[0m\u001b[0;34m\u001b[0m\u001b[0m\n\u001b[0;32m---> 41\u001b[0;31m     \u001b[0;32mreturn\u001b[0m \u001b[0mboard_count\u001b[0m\u001b[0;34m(\u001b[0m\u001b[0mblocks\u001b[0m\u001b[0;34m)\u001b[0m \u001b[0;34m+\u001b[0m \u001b[0mduplication_count\u001b[0m\u001b[0;34m(\u001b[0m\u001b[0mblocks\u001b[0m\u001b[0;34m)\u001b[0m \u001b[0;34m+\u001b[0m \u001b[0mfillstyle_count\u001b[0m\u001b[0;34m(\u001b[0m\u001b[0mblocks\u001b[0m\u001b[0;34m)\u001b[0m\u001b[0;34m\u001b[0m\u001b[0;34m\u001b[0m\u001b[0m\n\u001b[0m",
      "\u001b[0;32m<ipython-input-78-798cade6e7fd>\u001b[0m in \u001b[0;36mduplication_count\u001b[0;34m(blocks)\u001b[0m\n\u001b[1;32m     13\u001b[0m     \u001b[0;32mfor\u001b[0m \u001b[0mpos\u001b[0m \u001b[0;32min\u001b[0m \u001b[0mflats\u001b[0m\u001b[0;34m:\u001b[0m\u001b[0;34m\u001b[0m\u001b[0;34m\u001b[0m\u001b[0m\n\u001b[1;32m     14\u001b[0m         \u001b[0mx\u001b[0m\u001b[0;34m,\u001b[0m \u001b[0my\u001b[0m \u001b[0;34m=\u001b[0m \u001b[0mpos\u001b[0m\u001b[0;34m\u001b[0m\u001b[0;34m\u001b[0m\u001b[0m\n\u001b[0;32m---> 15\u001b[0;31m         \u001b[0;32mif\u001b[0m \u001b[0mx\u001b[0m \u001b[0;34m<\u001b[0m \u001b[0;36m0\u001b[0m \u001b[0;32mor\u001b[0m \u001b[0mx\u001b[0m \u001b[0;34m>=\u001b[0m \u001b[0mboard_size\u001b[0m \u001b[0;32mor\u001b[0m \u001b[0my\u001b[0m \u001b[0;34m<\u001b[0m \u001b[0;36m0\u001b[0m \u001b[0;32mor\u001b[0m \u001b[0my\u001b[0m \u001b[0;34m>=\u001b[0m \u001b[0mboard_size\u001b[0m\u001b[0;34m:\u001b[0m\u001b[0;34m\u001b[0m\u001b[0;34m\u001b[0m\u001b[0m\n\u001b[0m\u001b[1;32m     16\u001b[0m             \u001b[0;32mcontinue\u001b[0m\u001b[0;34m\u001b[0m\u001b[0;34m\u001b[0m\u001b[0m\n\u001b[1;32m     17\u001b[0m         \u001b[0mmat\u001b[0m\u001b[0;34m[\u001b[0m\u001b[0mpos\u001b[0m\u001b[0;34m[\u001b[0m\u001b[0;36m0\u001b[0m\u001b[0;34m]\u001b[0m\u001b[0;34m]\u001b[0m\u001b[0;34m[\u001b[0m\u001b[0mpos\u001b[0m\u001b[0;34m[\u001b[0m\u001b[0;36m1\u001b[0m\u001b[0;34m]\u001b[0m\u001b[0;34m]\u001b[0m \u001b[0;34m+=\u001b[0m \u001b[0;36m1\u001b[0m\u001b[0;34m\u001b[0m\u001b[0;34m\u001b[0m\u001b[0m\n",
      "\u001b[0;31mKeyboardInterrupt\u001b[0m: "
     ]
    }
   ],
   "source": [
    "result = main()"
   ]
  },
  {
   "cell_type": "code",
   "execution_count": 146,
   "metadata": {},
   "outputs": [
    {
     "data": {
      "text/plain": [
       "[119, 150, 3, 181, 60, 135, 16, 184]"
      ]
     },
     "execution_count": 146,
     "metadata": {},
     "output_type": "execute_result"
    }
   ],
   "source": [
    "result[0].chromosome"
   ]
  },
  {
   "cell_type": "code",
   "execution_count": 147,
   "metadata": {},
   "outputs": [
    {
     "data": {
      "text/plain": [
       "0"
      ]
     },
     "execution_count": 147,
     "metadata": {},
     "output_type": "execute_result"
    }
   ],
   "source": [
    "fitness_function(move_blocks(result[0].chromosome))"
   ]
  },
  {
   "cell_type": "code",
   "execution_count": 169,
   "metadata": {},
   "outputs": [
    {
     "data": {
      "image/png": "[encoded data removed]",
      "text/plain": [
       "<Figure size 720x720 with 1 Axes>"
      ]
     },
     "metadata": {
      "needs_background": "light"
     },
     "output_type": "display_data"
    }
   ],
   "source": [
    "#plot_blocks(move_blocks(result[0].chromosome))\n",
    "plot_blocks(move_blocks([269,449,187,2,337,59,307,383,228,27,201,508,479]))"
   ]
  },
  {
   "cell_type": "code",
   "execution_count": null,
   "metadata": {},
   "outputs": [],
   "source": []
  },
  {
   "cell_type": "code",
   "execution_count": null,
   "metadata": {},
   "outputs": [],
   "source": []
  }
 ],
 "metadata": {
  "kernelspec": {
   "display_name": "Python 3",
   "language": "python",
   "name": "python3"
  },
  "language_info": {
   "codemirror_mode": {
    "name": "ipython",
    "version": 3
   },
   "file_extension": ".py",
   "mimetype": "text/x-python",
   "name": "python",
   "nbconvert_exporter": "python",
   "pygments_lexer": "ipython3",
   "version": "3.6.8"
  }
 },
 "nbformat": 4,
 "nbformat_minor": 2
}
