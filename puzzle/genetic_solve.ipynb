{
 "cells": [
  {
   "cell_type": "code",
   "execution_count": 159,
   "metadata": {},
   "outputs": [],
   "source": [
    "import numpy as np\n",
    "import matplotlib.pyplot as plt\n",
    "\n",
    "import itertools\n",
    "import time\n",
    "import os\n",
    "\n",
    "import glob\n",
    "\n",
    "from natsort import natsorted\n",
    "from IPython.display import clear_output, display\n",
    "\n",
    "from tqdm.auto import tqdm\n",
    "\n",
    "from concurrent.futures import ProcessPoolExecutor, ThreadPoolExecutor"
   ]
  },
  {
   "cell_type": "code",
   "execution_count": 160,
   "metadata": {},
   "outputs": [],
   "source": [
    "fblocks = np.array([\n",
    "    [(0,0,0),(1,0,1),(2,0,0),(3,0,1),(4,0,0)],\n",
    "    [(0,0,0),(1,0,1),(2,0,0),(2,-1,1),(1,1,0)],\n",
    "    [(0,0,0),(1,0,1),(2,0,0),(0,1,1),(2,-1,1)],\n",
    "    [(0,0,0),(1,0,1),(2,0,0),(-1,0,1),(0,-1,1)],\n",
    "    [(0,0,0),(-1,0,1),(1,0,1),(0,1,1),(0,-1,1)],\n",
    "    [(0,0,1),(1,0,0),(2,0,1),(0,1,0),(0,-1,0)],\n",
    "    [(0,0,0),(1,0,1),(2,0,0),(3,0,1),(0,1,1)],\n",
    "    [(0,0,0),(0,1,1),(2,0,0),(2,1,1),(1,1,0)],\n",
    "    [(0,0,1),(1,0,0),(2,0,1),(0,1,0),(0,2,1)],\n",
    "    [(0,0,1),(-1,0,0),(0,1,0),(1,1,1),(2,1,0)],\n",
    "    [(0,0,0),(1,0,1),(0,1,1),(1,1,0),(-1,1,0)],\n",
    "    [(0,0,0),(1,0,1),(0,1,1),(1,1,0)],\n",
    "    [(0,0,0),(1,1,0),(2,2,0),(0,1,1),(1,2,1)]\n",
    "])\n",
    "\n",
    "\n",
    "board_size = 8\n",
    "\n",
    "#fblocks = np.array([\n",
    "#    [(0,0,0)],\n",
    "#    [(0,0,0),(-1,0,1),(0,-1,1)],\n",
    "#    [(0,0,0),(0,1,1),(0,2,0),(0,3,1)],\n",
    "#    [(0,0,0),(-1,0,1),(0,-1,1),(0,-2,0)],\n",
    "#    [(0,0,1),(-1,0,0),(0,-1,0),(0,-2,1)],\n",
    "#    [(0,0,0),(0,1,1),(0,2,0),(0,3,1)],\n",
    "#    [(0,0,0),(0,1,1),(0,2,0)],\n",
    "#    [(0,0,1),(0,1,0)]\n",
    "#])\n",
    "#\n",
    "#board_size = 5\n",
    "\n",
    "blocks = []\n",
    "for block in fblocks:\n",
    "    blocks.append(np.array(block))\n",
    "fblocks = np.array(blocks).copy()\n",
    "\n",
    "dcol = np.random.rand(len(fblocks),3)"
   ]
  },
  {
   "cell_type": "code",
   "execution_count": 161,
   "metadata": {},
   "outputs": [],
   "source": [
    "def rot_mat(angle):\n",
    "    theta = np.radians(angle)\n",
    "    c, s = np.cos(theta), np.sin(theta)\n",
    "    R = np.round(np.array(((c,-s), (s, c))))\n",
    "    return R\n",
    "\n",
    "def rotation(block, rot=0):\n",
    "    block = block.copy()\n",
    "    angles = [0,90,180,270]\n",
    "    rblock = block[...,:-1]\n",
    "    rblock = np.array(list(map(lambda x : np.matmul(rot_mat(angles[rot]), x), rblock))).astype(int)\n",
    "    block[...,:-1] = rblock\n",
    "    return block\n",
    "\n",
    "def translation(block, vector):\n",
    "    block = block.copy()\n",
    "    rblock = block[...,:-1]\n",
    "    rblock = np.array(list(map(lambda x : x + vector, rblock)))\n",
    "    block[...,:-1] = rblock\n",
    "    return block\n",
    "\n",
    "def mirroring(block, mirror):\n",
    "    block = block.copy()\n",
    "    rblock = block[...,:-1]\n",
    "    if mirror:\n",
    "        rblock = np.array(list(map(lambda x : x * (-1), rblock)))\n",
    "    block[...,:-1] = rblock\n",
    "    return block"
   ]
  },
  {
   "cell_type": "code",
   "execution_count": 162,
   "metadata": {},
   "outputs": [],
   "source": [
    "def move_block(block, setting):\n",
    "    block = mirroring(block,setting[-1])\n",
    "    block = rotation(block,setting[-2])\n",
    "    block = translation(block,setting[:-2])\n",
    "    return block\n",
    "\n",
    "def move_blocks(gnome):\n",
    "    moved = [move_block(block, all_combs[gene]) for (block, gene) in zip(fblocks, gnome)]\n",
    "    return moved\n",
    "\n",
    "def plot_block(block, setting = [0,0,0,0], *args, **kwargs):\n",
    "    block = move_block(block, setting)\n",
    "    mask = block[...,-1] == 0\n",
    "    plt.plot(block[mask,0], block[mask,1], marker='s', fillstyle='top', linewidth=0, *args, **kwargs)\n",
    "    plt.plot(block[~mask,0], block[~mask,1], marker='s', fillstyle='bottom', linewidth=0, *args, **kwargs)\n",
    "    \n",
    "def plot_blocks(blocks, settings = None, filename = None, *args, **kwargs):\n",
    "    fig = plt.figure(figsize=(10,10))\n",
    "    edges = np.array([[0,0], [0,board_size-1], [board_size-1,board_size-1], [board_size-1,0], [0,0]])\n",
    "    plt.plot(edges[:,0], edges[:,1], color='r')\n",
    "    for idx,block in enumerate(blocks):\n",
    "        setting = [0,0,0,0] if settings is None else settings[idx]\n",
    "        plot_block(block, setting, markersize=40, color = dcol[idx])\n",
    "    plt.xlim(-1, board_size)\n",
    "    plt.ylim(-1, board_size)\n",
    "    \n",
    "    if filename is not None:\n",
    "        plt.savefig(f'images/{filename}', bbox_inches='tight', dpi=100)\n",
    "        plt.close(fig)"
   ]
  },
  {
   "cell_type": "code",
   "execution_count": 163,
   "metadata": {},
   "outputs": [
    {
     "data": {
      "image/png": "[encoded data removed]",
      "text/plain": [
       "<Figure size 720x720 with 1 Axes>"
      ]
     },
     "metadata": {
      "needs_background": "light"
     },
     "output_type": "display_data"
    }
   ],
   "source": [
    "vecs = [np.random.randint(-1,board_size,2) for i in range(len(fblocks))]\n",
    "rots = [np.random.randint(0,4) for i in range(len(fblocks))]\n",
    "mirrs = [np.random.randint(0,1) for i in range(len(fblocks))]\n",
    "\n",
    "settings = [(*vec, rot, mirr) for vec,rot,mirr in zip(vecs,rots,mirrs)]\n",
    "\n",
    "plot_blocks(fblocks, settings)"
   ]
  },
  {
   "cell_type": "code",
   "execution_count": 164,
   "metadata": {},
   "outputs": [],
   "source": [
    "# brute force it\n",
    "brute_positions_x = np.array(list(range(board_size)))\n",
    "brute_positions_y = brute_positions_x\n",
    "brute_rotations = np.array(list(range(4)))\n",
    "brute_mirrors = np.array(list(range(2)))\n",
    "\n",
    "iterables = [brute_positions_x, brute_positions_y, brute_rotations, brute_mirrors]\n",
    "\n",
    "all_combs = np.array(list(itertools.product(*iterables)))"
   ]
  },
  {
   "cell_type": "code",
   "execution_count": 165,
   "metadata": {},
   "outputs": [],
   "source": [
    "def board_count(blocks):\n",
    "    rblocks = np.array([block[...,:-1] for block in blocks])\n",
    "    flats = np.concatenate(rblocks, axis=0)\n",
    "    \n",
    "    edges = [any(coord < 0 for coord in block) or any(coord >= board_size for coord in block) for block in flats]\n",
    "    return np.count_nonzero(edges)\n",
    "    \n",
    "\n",
    "def duplication_count(blocks):\n",
    "    rblocks = np.array([block[...,:-1] for block in blocks])\n",
    "    flats = np.concatenate(rblocks)\n",
    "    mat = np.zeros((board_size, board_size))\n",
    "    for pos in flats:\n",
    "        x, y = pos\n",
    "        if x < 0 or x >= board_size or y < 0 or y >= board_size:\n",
    "            continue\n",
    "        mat[pos[0]][pos[1]] += 1\n",
    "        \n",
    "    nflats = mat.ravel()\n",
    "    dcount = 0\n",
    "    for n in nflats:\n",
    "        if n > 1:\n",
    "            dcount += n\n",
    "            \n",
    "    return int(dcount)\n",
    "\n",
    "def single_check(case):\n",
    "        if np.sum(case[:-1]) % 2 != case[-1]:\n",
    "            return False\n",
    "        return True\n",
    "\n",
    "def fillstyle_count(blocks):\n",
    "    flats = np.concatenate(blocks, axis=0)\n",
    "    dcount = 0\n",
    "    for case in flats:\n",
    "        if not single_check(case):\n",
    "            dcount += 1\n",
    "    return dcount\n",
    "\n",
    "def fitness_function(blocks):\n",
    "    return board_count(blocks)**2 + duplication_count(blocks)**3 + fillstyle_count(blocks)"
   ]
  },
  {
   "cell_type": "code",
   "execution_count": 166,
   "metadata": {},
   "outputs": [
    {
     "data": {
      "image/png": "[encoded data removed]",
      "text/plain": [
       "<Figure size 720x720 with 1 Axes>"
      ]
     },
     "metadata": {
      "needs_background": "light"
     },
     "output_type": "display_data"
    }
   ],
   "source": [
    "plot_blocks(fblocks)"
   ]
  },
  {
   "cell_type": "code",
   "execution_count": 172,
   "metadata": {},
   "outputs": [],
   "source": [
    "# Number of individuals in each generation \n",
    "POPULATION_SIZE = 100\n",
    "\n",
    "# Valid genes \n",
    "GENES = list(range(len(all_combs)))\n",
    "\n",
    "class Individual(object): \n",
    "    ''' \n",
    "    Class representing individual in population \n",
    "    '''\n",
    "    def __init__(self, chromosome): \n",
    "        self.chromosome = np.array(chromosome )\n",
    "        self.fitness = self.cal_fitness() \n",
    "\n",
    "    @classmethod\n",
    "    def mutated_genes(self): \n",
    "        ''' \n",
    "        create random genes for mutation \n",
    "        '''\n",
    "        global GENES \n",
    "        gene = np.random.choice(GENES) \n",
    "        return gene \n",
    "\n",
    "    @classmethod\n",
    "    def create_gnome(self): \n",
    "        ''' \n",
    "        create chromosome or string of genes \n",
    "        '''\n",
    "        global fblocks \n",
    "        gnome_len = len(fblocks) \n",
    "        return np.array([self.mutated_genes() for _ in range(gnome_len)])\n",
    "    \n",
    "    @staticmethod\n",
    "    def swap_genes(chromosome, pair_swap):\n",
    "        '''\n",
    "        switch two genes in the chromosome\n",
    "        '''\n",
    "        gnome = chromosome.copy()\n",
    "        gnome[pair_swap] = gnome[np.flip(pair_swap)]\n",
    "        return gnome        \n",
    "\n",
    "    def mate(self, par2): \n",
    "        ''' \n",
    "        Perform mating and produce new offspring \n",
    "        '''\n",
    "        global fblocks\n",
    "        # chromosome for offspring \n",
    "        child_chromosome = [] \n",
    "        for gp1, gp2 in zip(self.chromosome, par2.chromosome):\n",
    "            # random probability \n",
    "            prob = np.random.rand()\n",
    "            child_chromosome = list(child_chromosome)\n",
    "\n",
    "            # if prob is less than 0.45, insert gene \n",
    "            # from parent 1 \n",
    "            if prob < 0.45: \n",
    "                child_chromosome.append(gp1) \n",
    "\n",
    "            # if prob is between 0.45 and 0.90, insert \n",
    "            # gene from parent 2 \n",
    "            elif prob < 0.9: \n",
    "                child_chromosome.append(gp2) \n",
    "                \n",
    "            # otherwise insert random gene(mutate), \n",
    "            # for maintaining diversity \n",
    "            else: \n",
    "                child_chromosome.append(self.mutated_genes()) \n",
    "                \n",
    "            child_chromosome = np.array(child_chromosome)\n",
    "                \n",
    "        # do random swap of genes\n",
    "        for _ in range(int(np.random.exponential(2))):\n",
    "            swap_pair = np.random.randint(0, len(fblocks), 2)\n",
    "            child_chromosome = self.swap_genes(child_chromosome, swap_pair)\n",
    "\n",
    "        # create new Individual(offspring) using \n",
    "        # generated chromosome for offspring \n",
    "        return Individual(child_chromosome) \n",
    "\n",
    "    def cal_fitness(self): \n",
    "        ''' \n",
    "        Calculate fittness score, it is the number of \n",
    "        characters in string which differ from target \n",
    "        string. \n",
    "        '''\n",
    "        global TARGET\n",
    "        \n",
    "        fitness = 0\n",
    "        \n",
    "        blocks = move_blocks(self.chromosome)\n",
    "        return fitness_function(blocks)"
   ]
  },
  {
   "cell_type": "code",
   "execution_count": 173,
   "metadata": {},
   "outputs": [],
   "source": [
    "# Driver code \n",
    "def main(): \n",
    "    global POPULATION_SIZE \n",
    "\n",
    "    #current generation \n",
    "    generation = 1\n",
    "    finalfit = -999\n",
    "\n",
    "    found = False\n",
    "    population = [Individual(Individual.create_gnome()) for i in range(POPULATION_SIZE)] \n",
    "\n",
    "    while not found: \n",
    "\n",
    "        # sort the population in increasing order of fitness score \n",
    "        population = sorted(population, key = lambda x:x.fitness) \n",
    "\n",
    "        # if the individual having lowest fitness score ie. \n",
    "        # 0 then we know that we have reached to the target \n",
    "        # and break the loop \n",
    "        if population[0].fitness <= 0: \n",
    "            found = True\n",
    "            break\n",
    "\n",
    "        # Otherwise generate new offsprings for new generation \n",
    "        new_generation = [] \n",
    "\n",
    "        # Perform Elitism, that mean 10% of fittest population \n",
    "        # goes to the next generation \n",
    "        s = int((10*POPULATION_SIZE)/100) \n",
    "        new_generation.extend(population[:s]) \n",
    "\n",
    "        # From 50% of fittest population, Individuals \n",
    "        # will mate to produce offspring \n",
    "        s = int((90*POPULATION_SIZE)/100) \n",
    "        for _ in range(s): \n",
    "            parent1 = np.random.choice(population[:50]) \n",
    "            parent2 = np.random.choice(population[:50]) \n",
    "            child = parent1.mate(parent2) \n",
    "            new_generation.append(child) \n",
    "\n",
    "        population = new_generation \n",
    "\n",
    "        if generation % 10 == 0:\n",
    "            print(\"Generation: {}\\tChromosome: {}\\tFitness: {}\".format(generation, ','.join([str(x) for x in population[0].chromosome]), population[0].fitness), flush=True) \n",
    "\n",
    "        generation += 1\n",
    "        finalfit = population[0].fitness\n",
    "        \n",
    "        #if generation > 100:\n",
    "        #    generation = 1\n",
    "        #    population = [Individual(Individual.create_gnome()) for i in range(POPULATION_SIZE)] \n",
    "\n",
    "\n",
    "    print(\"Generation: {}\\tChromosome: {}\\tFitness: {}\".format(generation, ','.join([str(x) for x in population[0].chromosome]), population[0].fitness))\n",
    "    return population"
   ]
  },
  {
   "cell_type": "code",
   "execution_count": 174,
   "metadata": {},
   "outputs": [
    {
     "name": "stdout",
     "output_type": "stream",
     "text": [
      "Generation: 10\tChromosome: 323,464,120,499,79,57,150,417,442,100,456,163,2\tFitness: 715\n",
      "Generation: 20\tChromosome: 323,283,120,499,79,57,232,417,442,100,456,163,2\tFitness: 520\n",
      "Generation: 30\tChromosome: 323,283,120,499,79,57,232,417,442,100,456,163,2\tFitness: 520\n",
      "Generation: 40\tChromosome: 323,283,120,499,79,57,232,417,442,100,456,163,2\tFitness: 520\n",
      "Generation: 50\tChromosome: 323,283,120,499,79,57,232,417,442,100,456,163,2\tFitness: 520\n",
      "Generation: 60\tChromosome: 323,442,232,61,79,477,194,417,442,100,499,275,2\tFitness: 479\n",
      "Generation: 70\tChromosome: 323,509,232,456,79,477,194,417,442,100,313,275,2\tFitness: 445\n",
      "Generation: 80\tChromosome: 323,436,232,61,79,477,194,417,275,494,323,442,2\tFitness: 427\n",
      "Generation: 90\tChromosome: 323,442,120,499,79,57,194,417,442,100,456,275,226\tFitness: 378\n",
      "Generation: 100\tChromosome: 323,442,120,499,79,57,194,417,442,100,456,275,226\tFitness: 378\n",
      "Generation: 110\tChromosome: 323,442,120,499,79,57,194,417,442,100,456,275,226\tFitness: 378\n",
      "Generation: 120\tChromosome: 323,442,120,499,79,57,194,417,442,100,456,275,226\tFitness: 378\n",
      "Generation: 130\tChromosome: 459,37,232,61,79,477,194,417,442,323,499,275,437\tFitness: 309\n"
     ]
    },
    {
     "ename": "KeyboardInterrupt",
     "evalue": "",
     "output_type": "error",
     "traceback": [
      "\u001b[0;31m---------------------------------------------------------------------------\u001b[0m",
      "\u001b[0;31mKeyboardInterrupt\u001b[0m                         Traceback (most recent call last)",
      "\u001b[0;32m<ipython-input-174-03d27f86d8a6>\u001b[0m in \u001b[0;36m<module>\u001b[0;34m\u001b[0m\n\u001b[0;32m----> 1\u001b[0;31m \u001b[0mresult\u001b[0m \u001b[0;34m=\u001b[0m \u001b[0mmain\u001b[0m\u001b[0;34m(\u001b[0m\u001b[0;34m)\u001b[0m\u001b[0;34m\u001b[0m\u001b[0;34m\u001b[0m\u001b[0m\n\u001b[0m",
      "\u001b[0;32m<ipython-input-173-8deae6b4aefc>\u001b[0m in \u001b[0;36mmain\u001b[0;34m()\u001b[0m\n\u001b[1;32m     36\u001b[0m             \u001b[0mparent1\u001b[0m \u001b[0;34m=\u001b[0m \u001b[0mnp\u001b[0m\u001b[0;34m.\u001b[0m\u001b[0mrandom\u001b[0m\u001b[0;34m.\u001b[0m\u001b[0mchoice\u001b[0m\u001b[0;34m(\u001b[0m\u001b[0mpopulation\u001b[0m\u001b[0;34m[\u001b[0m\u001b[0;34m:\u001b[0m\u001b[0;36m50\u001b[0m\u001b[0;34m]\u001b[0m\u001b[0;34m)\u001b[0m\u001b[0;34m\u001b[0m\u001b[0;34m\u001b[0m\u001b[0m\n\u001b[1;32m     37\u001b[0m             \u001b[0mparent2\u001b[0m \u001b[0;34m=\u001b[0m \u001b[0mnp\u001b[0m\u001b[0;34m.\u001b[0m\u001b[0mrandom\u001b[0m\u001b[0;34m.\u001b[0m\u001b[0mchoice\u001b[0m\u001b[0;34m(\u001b[0m\u001b[0mpopulation\u001b[0m\u001b[0;34m[\u001b[0m\u001b[0;34m:\u001b[0m\u001b[0;36m50\u001b[0m\u001b[0;34m]\u001b[0m\u001b[0;34m)\u001b[0m\u001b[0;34m\u001b[0m\u001b[0;34m\u001b[0m\u001b[0m\n\u001b[0;32m---> 38\u001b[0;31m             \u001b[0mchild\u001b[0m \u001b[0;34m=\u001b[0m \u001b[0mparent1\u001b[0m\u001b[0;34m.\u001b[0m\u001b[0mmate\u001b[0m\u001b[0;34m(\u001b[0m\u001b[0mparent2\u001b[0m\u001b[0;34m)\u001b[0m\u001b[0;34m\u001b[0m\u001b[0;34m\u001b[0m\u001b[0m\n\u001b[0m\u001b[1;32m     39\u001b[0m             \u001b[0mnew_generation\u001b[0m\u001b[0;34m.\u001b[0m\u001b[0mappend\u001b[0m\u001b[0;34m(\u001b[0m\u001b[0mchild\u001b[0m\u001b[0;34m)\u001b[0m\u001b[0;34m\u001b[0m\u001b[0;34m\u001b[0m\u001b[0m\n\u001b[1;32m     40\u001b[0m \u001b[0;34m\u001b[0m\u001b[0m\n",
      "\u001b[0;32m<ipython-input-172-f3ada5164bd9>\u001b[0m in \u001b[0;36mmate\u001b[0;34m(self, par2)\u001b[0m\n\u001b[1;32m     76\u001b[0m         \u001b[0;31m# create new Individual(offspring) using\u001b[0m\u001b[0;34m\u001b[0m\u001b[0;34m\u001b[0m\u001b[0;34m\u001b[0m\u001b[0m\n\u001b[1;32m     77\u001b[0m         \u001b[0;31m# generated chromosome for offspring\u001b[0m\u001b[0;34m\u001b[0m\u001b[0;34m\u001b[0m\u001b[0;34m\u001b[0m\u001b[0m\n\u001b[0;32m---> 78\u001b[0;31m         \u001b[0;32mreturn\u001b[0m \u001b[0mIndividual\u001b[0m\u001b[0;34m(\u001b[0m\u001b[0mchild_chromosome\u001b[0m\u001b[0;34m)\u001b[0m\u001b[0;34m\u001b[0m\u001b[0;34m\u001b[0m\u001b[0m\n\u001b[0m\u001b[1;32m     79\u001b[0m \u001b[0;34m\u001b[0m\u001b[0m\n\u001b[1;32m     80\u001b[0m     \u001b[0;32mdef\u001b[0m \u001b[0mcal_fitness\u001b[0m\u001b[0;34m(\u001b[0m\u001b[0mself\u001b[0m\u001b[0;34m)\u001b[0m\u001b[0;34m:\u001b[0m\u001b[0;34m\u001b[0m\u001b[0;34m\u001b[0m\u001b[0m\n",
      "\u001b[0;32m<ipython-input-172-f3ada5164bd9>\u001b[0m in \u001b[0;36m__init__\u001b[0;34m(self, chromosome)\u001b[0m\n\u001b[1;32m     11\u001b[0m     \u001b[0;32mdef\u001b[0m \u001b[0m__init__\u001b[0m\u001b[0;34m(\u001b[0m\u001b[0mself\u001b[0m\u001b[0;34m,\u001b[0m \u001b[0mchromosome\u001b[0m\u001b[0;34m)\u001b[0m\u001b[0;34m:\u001b[0m\u001b[0;34m\u001b[0m\u001b[0;34m\u001b[0m\u001b[0m\n\u001b[1;32m     12\u001b[0m         \u001b[0mself\u001b[0m\u001b[0;34m.\u001b[0m\u001b[0mchromosome\u001b[0m \u001b[0;34m=\u001b[0m \u001b[0mnp\u001b[0m\u001b[0;34m.\u001b[0m\u001b[0marray\u001b[0m\u001b[0;34m(\u001b[0m\u001b[0mchromosome\u001b[0m \u001b[0;34m)\u001b[0m\u001b[0;34m\u001b[0m\u001b[0;34m\u001b[0m\u001b[0m\n\u001b[0;32m---> 13\u001b[0;31m         \u001b[0mself\u001b[0m\u001b[0;34m.\u001b[0m\u001b[0mfitness\u001b[0m \u001b[0;34m=\u001b[0m \u001b[0mself\u001b[0m\u001b[0;34m.\u001b[0m\u001b[0mcal_fitness\u001b[0m\u001b[0;34m(\u001b[0m\u001b[0;34m)\u001b[0m\u001b[0;34m\u001b[0m\u001b[0;34m\u001b[0m\u001b[0m\n\u001b[0m\u001b[1;32m     14\u001b[0m \u001b[0;34m\u001b[0m\u001b[0m\n\u001b[1;32m     15\u001b[0m     \u001b[0;34m@\u001b[0m\u001b[0mclassmethod\u001b[0m\u001b[0;34m\u001b[0m\u001b[0;34m\u001b[0m\u001b[0m\n",
      "\u001b[0;32m<ipython-input-172-f3ada5164bd9>\u001b[0m in \u001b[0;36mcal_fitness\u001b[0;34m(self)\u001b[0m\n\u001b[1;32m     89\u001b[0m \u001b[0;34m\u001b[0m\u001b[0m\n\u001b[1;32m     90\u001b[0m         \u001b[0mblocks\u001b[0m \u001b[0;34m=\u001b[0m \u001b[0mmove_blocks\u001b[0m\u001b[0;34m(\u001b[0m\u001b[0mself\u001b[0m\u001b[0;34m.\u001b[0m\u001b[0mchromosome\u001b[0m\u001b[0;34m)\u001b[0m\u001b[0;34m\u001b[0m\u001b[0;34m\u001b[0m\u001b[0m\n\u001b[0;32m---> 91\u001b[0;31m         \u001b[0;32mreturn\u001b[0m \u001b[0mfitness_function\u001b[0m\u001b[0;34m(\u001b[0m\u001b[0mblocks\u001b[0m\u001b[0;34m)\u001b[0m\u001b[0;34m\u001b[0m\u001b[0;34m\u001b[0m\u001b[0m\n\u001b[0m",
      "\u001b[0;32m<ipython-input-165-ababa6ab25af>\u001b[0m in \u001b[0;36mfitness_function\u001b[0;34m(blocks)\u001b[0m\n\u001b[1;32m     39\u001b[0m \u001b[0;34m\u001b[0m\u001b[0m\n\u001b[1;32m     40\u001b[0m \u001b[0;32mdef\u001b[0m \u001b[0mfitness_function\u001b[0m\u001b[0;34m(\u001b[0m\u001b[0mblocks\u001b[0m\u001b[0;34m)\u001b[0m\u001b[0;34m:\u001b[0m\u001b[0;34m\u001b[0m\u001b[0;34m\u001b[0m\u001b[0m\n\u001b[0;32m---> 41\u001b[0;31m     \u001b[0;32mreturn\u001b[0m \u001b[0mboard_count\u001b[0m\u001b[0;34m(\u001b[0m\u001b[0mblocks\u001b[0m\u001b[0;34m)\u001b[0m\u001b[0;34m**\u001b[0m\u001b[0;36m2\u001b[0m \u001b[0;34m+\u001b[0m \u001b[0mduplication_count\u001b[0m\u001b[0;34m(\u001b[0m\u001b[0mblocks\u001b[0m\u001b[0;34m)\u001b[0m\u001b[0;34m**\u001b[0m\u001b[0;36m3\u001b[0m \u001b[0;34m+\u001b[0m \u001b[0mfillstyle_count\u001b[0m\u001b[0;34m(\u001b[0m\u001b[0mblocks\u001b[0m\u001b[0;34m)\u001b[0m\u001b[0;34m\u001b[0m\u001b[0;34m\u001b[0m\u001b[0m\n\u001b[0m",
      "\u001b[0;32m<ipython-input-165-ababa6ab25af>\u001b[0m in \u001b[0;36mfillstyle_count\u001b[0;34m(blocks)\u001b[0m\n\u001b[1;32m     34\u001b[0m     \u001b[0mdcount\u001b[0m \u001b[0;34m=\u001b[0m \u001b[0;36m0\u001b[0m\u001b[0;34m\u001b[0m\u001b[0;34m\u001b[0m\u001b[0m\n\u001b[1;32m     35\u001b[0m     \u001b[0;32mfor\u001b[0m \u001b[0mcase\u001b[0m \u001b[0;32min\u001b[0m \u001b[0mflats\u001b[0m\u001b[0;34m:\u001b[0m\u001b[0;34m\u001b[0m\u001b[0;34m\u001b[0m\u001b[0m\n\u001b[0;32m---> 36\u001b[0;31m         \u001b[0;32mif\u001b[0m \u001b[0;32mnot\u001b[0m \u001b[0msingle_check\u001b[0m\u001b[0;34m(\u001b[0m\u001b[0mcase\u001b[0m\u001b[0;34m)\u001b[0m\u001b[0;34m:\u001b[0m\u001b[0;34m\u001b[0m\u001b[0;34m\u001b[0m\u001b[0m\n\u001b[0m\u001b[1;32m     37\u001b[0m             \u001b[0mdcount\u001b[0m \u001b[0;34m+=\u001b[0m \u001b[0;36m1\u001b[0m\u001b[0;34m\u001b[0m\u001b[0;34m\u001b[0m\u001b[0m\n\u001b[1;32m     38\u001b[0m     \u001b[0;32mreturn\u001b[0m \u001b[0mdcount\u001b[0m\u001b[0;34m\u001b[0m\u001b[0;34m\u001b[0m\u001b[0m\n",
      "\u001b[0;32m<ipython-input-165-ababa6ab25af>\u001b[0m in \u001b[0;36msingle_check\u001b[0;34m(case)\u001b[0m\n\u001b[1;32m     26\u001b[0m \u001b[0;34m\u001b[0m\u001b[0m\n\u001b[1;32m     27\u001b[0m \u001b[0;32mdef\u001b[0m \u001b[0msingle_check\u001b[0m\u001b[0;34m(\u001b[0m\u001b[0mcase\u001b[0m\u001b[0;34m)\u001b[0m\u001b[0;34m:\u001b[0m\u001b[0;34m\u001b[0m\u001b[0;34m\u001b[0m\u001b[0m\n\u001b[0;32m---> 28\u001b[0;31m         \u001b[0;32mif\u001b[0m \u001b[0mnp\u001b[0m\u001b[0;34m.\u001b[0m\u001b[0msum\u001b[0m\u001b[0;34m(\u001b[0m\u001b[0mcase\u001b[0m\u001b[0;34m[\u001b[0m\u001b[0;34m:\u001b[0m\u001b[0;34m-\u001b[0m\u001b[0;36m1\u001b[0m\u001b[0;34m]\u001b[0m\u001b[0;34m)\u001b[0m \u001b[0;34m%\u001b[0m \u001b[0;36m2\u001b[0m \u001b[0;34m!=\u001b[0m \u001b[0mcase\u001b[0m\u001b[0;34m[\u001b[0m\u001b[0;34m-\u001b[0m\u001b[0;36m1\u001b[0m\u001b[0;34m]\u001b[0m\u001b[0;34m:\u001b[0m\u001b[0;34m\u001b[0m\u001b[0;34m\u001b[0m\u001b[0m\n\u001b[0m\u001b[1;32m     29\u001b[0m             \u001b[0;32mreturn\u001b[0m \u001b[0;32mFalse\u001b[0m\u001b[0;34m\u001b[0m\u001b[0;34m\u001b[0m\u001b[0m\n\u001b[1;32m     30\u001b[0m         \u001b[0;32mreturn\u001b[0m \u001b[0;32mTrue\u001b[0m\u001b[0;34m\u001b[0m\u001b[0;34m\u001b[0m\u001b[0m\n",
      "\u001b[0;32m~/work/work_python/lib/python3.6/site-packages/numpy/core/fromnumeric.py\u001b[0m in \u001b[0;36msum\u001b[0;34m(a, axis, dtype, out, keepdims, initial)\u001b[0m\n\u001b[1;32m   2074\u001b[0m \u001b[0;34m\u001b[0m\u001b[0m\n\u001b[1;32m   2075\u001b[0m     return _wrapreduction(a, np.add, 'sum', axis, dtype, out, keepdims=keepdims,\n\u001b[0;32m-> 2076\u001b[0;31m                           initial=initial)\n\u001b[0m\u001b[1;32m   2077\u001b[0m \u001b[0;34m\u001b[0m\u001b[0m\n\u001b[1;32m   2078\u001b[0m \u001b[0;34m\u001b[0m\u001b[0m\n",
      "\u001b[0;32m~/work/work_python/lib/python3.6/site-packages/numpy/core/fromnumeric.py\u001b[0m in \u001b[0;36m_wrapreduction\u001b[0;34m(obj, ufunc, method, axis, dtype, out, **kwargs)\u001b[0m\n\u001b[1;32m     71\u001b[0m                   if v is not np._NoValue}\n\u001b[1;32m     72\u001b[0m \u001b[0;34m\u001b[0m\u001b[0m\n\u001b[0;32m---> 73\u001b[0;31m     \u001b[0;32mif\u001b[0m \u001b[0mtype\u001b[0m\u001b[0;34m(\u001b[0m\u001b[0mobj\u001b[0m\u001b[0;34m)\u001b[0m \u001b[0;32mis\u001b[0m \u001b[0;32mnot\u001b[0m \u001b[0mmu\u001b[0m\u001b[0;34m.\u001b[0m\u001b[0mndarray\u001b[0m\u001b[0;34m:\u001b[0m\u001b[0;34m\u001b[0m\u001b[0;34m\u001b[0m\u001b[0m\n\u001b[0m\u001b[1;32m     74\u001b[0m         \u001b[0;32mtry\u001b[0m\u001b[0;34m:\u001b[0m\u001b[0;34m\u001b[0m\u001b[0;34m\u001b[0m\u001b[0m\n\u001b[1;32m     75\u001b[0m             \u001b[0mreduction\u001b[0m \u001b[0;34m=\u001b[0m \u001b[0mgetattr\u001b[0m\u001b[0;34m(\u001b[0m\u001b[0mobj\u001b[0m\u001b[0;34m,\u001b[0m \u001b[0mmethod\u001b[0m\u001b[0;34m)\u001b[0m\u001b[0;34m\u001b[0m\u001b[0;34m\u001b[0m\u001b[0m\n",
      "\u001b[0;31mKeyboardInterrupt\u001b[0m: "
     ]
    }
   ],
   "source": [
    "result = main()"
   ]
  },
  {
   "cell_type": "code",
   "execution_count": 146,
   "metadata": {},
   "outputs": [
    {
     "data": {
      "text/plain": [
       "[119, 150, 3, 181, 60, 135, 16, 184]"
      ]
     },
     "execution_count": 146,
     "metadata": {},
     "output_type": "execute_result"
    }
   ],
   "source": [
    "result[0].chromosome"
   ]
  },
  {
   "cell_type": "code",
   "execution_count": 147,
   "metadata": {},
   "outputs": [
    {
     "data": {
      "text/plain": [
       "0"
      ]
     },
     "execution_count": 147,
     "metadata": {},
     "output_type": "execute_result"
    }
   ],
   "source": [
    "fitness_function(move_blocks(result[0].chromosome))"
   ]
  },
  {
   "cell_type": "code",
   "execution_count": 169,
   "metadata": {},
   "outputs": [
    {
     "data": {
      "image/png": "[encoded data removed]",
      "text/plain": [
       "<Figure size 720x720 with 1 Axes>"
      ]
     },
     "metadata": {
      "needs_background": "light"
     },
     "output_type": "display_data"
    }
   ],
   "source": [
    "#plot_blocks(move_blocks(result[0].chromosome))\n",
    "plot_blocks(move_blocks([269,449,187,2,337,59,307,383,228,27,201,508,479]))"
   ]
  },
  {
   "cell_type": "code",
   "execution_count": null,
   "metadata": {},
   "outputs": [],
   "source": []
  },
  {
   "cell_type": "code",
   "execution_count": null,
   "metadata": {},
   "outputs": [],
   "source": []
  }
 ],
 "metadata": {
  "kernelspec": {
   "display_name": "Python 3",
   "language": "python",
   "name": "python3"
  },
  "language_info": {
   "codemirror_mode": {
    "name": "ipython",
    "version": 3
   },
   "file_extension": ".py",
   "mimetype": "text/x-python",
   "name": "python",
   "nbconvert_exporter": "python",
   "pygments_lexer": "ipython3",
   "version": "3.6.8"
  }
 },
 "nbformat": 4,
 "nbformat_minor": 2
}
