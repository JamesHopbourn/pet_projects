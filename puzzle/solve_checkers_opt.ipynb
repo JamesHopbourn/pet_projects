{
 "cells": [
  {
   "cell_type": "code",
   "execution_count": 56,
   "metadata": {},
   "outputs": [],
   "source": [
    "import numpy as np\n",
    "import matplotlib.pyplot as plt\n",
    "\n",
    "import itertools\n",
    "import time\n",
    "import os\n",
    "\n",
    "import glob\n",
    "\n",
    "from natsort import natsorted\n",
    "from IPython.display import clear_output, display\n",
    "\n",
    "from tqdm.auto import tqdm\n",
    "\n",
    "from concurrent.futures import ProcessPoolExecutor, ThreadPoolExecutor"
   ]
  },
  {
   "cell_type": "code",
   "execution_count": 2,
   "metadata": {},
   "outputs": [],
   "source": [
    "fblocks = np.array([\n",
    "    [(0,0,0),(1,0,1),(2,0,0),(3,0,1),(4,0,0)],\n",
    "    [(0,0,0),(1,0,1),(2,0,0),(2,-1,1),(1,1,0)],\n",
    "    [(0,0,0),(1,0,1),(2,0,0),(0,1,1),(2,-1,1)],\n",
    "    [(0,0,0),(1,0,1),(2,0,0),(-1,0,1),(0,-1,1)],\n",
    "    [(0,0,0),(-1,0,1),(1,0,1),(0,1,1),(0,-1,1)],\n",
    "    [(0,0,1),(1,0,0),(2,0,1),(0,1,0),(0,-1,0)],\n",
    "    [(0,0,0),(1,0,1),(2,0,0),(3,0,1),(0,1,1)],\n",
    "    [(0,0,0),(0,1,1),(2,0,0),(2,1,1),(1,1,0)],\n",
    "    [(0,0,1),(1,0,0),(2,0,1),(0,1,0),(0,2,1)],\n",
    "    [(0,0,1),(-1,0,0),(0,1,0),(1,1,1),(2,1,0)],\n",
    "    [(0,0,0),(1,0,1),(0,1,1),(1,1,0),(-1,1,0)],\n",
    "    [(0,0,0),(1,0,1),(0,1,1),(1,1,0)],\n",
    "    [(0,0,0),(1,1,0),(2,2,0),(0,1,1),(1,2,1)]\n",
    "])\n",
    "\n",
    "\n",
    "board_size = 8\n",
    "\n",
    "fblocks = np.array([\n",
    "    [(0,0,0)],\n",
    "    [(0,0,0),(-1,0,1),(0,-1,1)],\n",
    "    [(0,0,0),(0,1,1),(0,2,0),(0,3,1)],\n",
    "    [(0,0,0),(-1,0,1),(0,-1,1),(0,-2,0)],\n",
    "    [(0,0,1),(-1,0,0),(0,-1,0),(0,-2,1)],\n",
    "    [(0,0,0),(0,1,1),(0,2,0),(0,3,1)],\n",
    "    [(0,0,0),(0,1,1),(0,2,0)],\n",
    "    [(0,0,1),(0,1,0)]\n",
    "])\n",
    "\n",
    "board_size = 5\n",
    "\n",
    "blocks = []\n",
    "for block in fblocks:\n",
    "    blocks.append(np.array(block))\n",
    "fblocks = np.array(blocks).copy()\n",
    "\n",
    "dcol = np.random.rand(len(fblocks),3)"
   ]
  },
  {
   "cell_type": "code",
   "execution_count": 3,
   "metadata": {},
   "outputs": [],
   "source": [
    "def rot_mat(angle):\n",
    "    theta = np.radians(angle)\n",
    "    c, s = np.cos(theta), np.sin(theta)\n",
    "    R = np.round(np.array(((c,-s), (s, c))))\n",
    "    return R\n",
    "\n",
    "def rotation(block, rot=0):\n",
    "    block = block.copy()\n",
    "    angles = [0,90,180,270]\n",
    "    rblock = block[...,:-1]\n",
    "    rblock = np.array(list(map(lambda x : np.matmul(rot_mat(angles[rot]), x), rblock))).astype(int)\n",
    "    block[...,:-1] = rblock\n",
    "    return block\n",
    "\n",
    "def translation(block, vector):\n",
    "    block = block.copy()\n",
    "    rblock = block[...,:-1]\n",
    "    rblock = np.array(list(map(lambda x : x + vector, rblock)))\n",
    "    block[...,:-1] = rblock\n",
    "    return block"
   ]
  },
  {
   "cell_type": "code",
   "execution_count": 4,
   "metadata": {},
   "outputs": [],
   "source": [
    "def move_block(block, setting):\n",
    "    block = rotation(block,setting[-1])\n",
    "    block = translation(block,setting[:-1])\n",
    "    return block\n",
    "\n",
    "def plot_block(block, setting = [0,0,0], *args, **kwargs):\n",
    "    block = move_block(block, setting)\n",
    "    mask = block[...,-1] == 0\n",
    "    plt.plot(block[mask,0], block[mask,1], marker='s', fillstyle='top', linewidth=0, *args, **kwargs)\n",
    "    plt.plot(block[~mask,0], block[~mask,1], marker='s', fillstyle='bottom', linewidth=0, *args, **kwargs)\n",
    "    \n",
    "def plot_blocks(blocks, settings = None, filename = None, *args, **kwargs):\n",
    "    fig = plt.figure(figsize=(10,10))\n",
    "    edges = np.array([[0,0], [0,board_size-1], [board_size-1,board_size-1], [board_size-1,0], [0,0]])\n",
    "    plt.plot(edges[:,0], edges[:,1], color='r')\n",
    "    for idx,block in enumerate(blocks):\n",
    "        setting = [0,0,0] if settings is None else settings[idx]\n",
    "        plot_block(block, setting, markersize=40, color = dcol[idx])\n",
    "    plt.xlim(-1, board_size)\n",
    "    plt.ylim(-1, board_size)\n",
    "    \n",
    "    if filename is not None:\n",
    "        plt.savefig(f'images/{filename}', bbox_inches='tight', dpi=100)\n",
    "        plt.close(fig)"
   ]
  },
  {
   "cell_type": "code",
   "execution_count": 5,
   "metadata": {},
   "outputs": [
    {
     "data": {
      "image/png": "[encoded data removed]",
      "text/plain": [
       "<Figure size 720x720 with 1 Axes>"
      ]
     },
     "metadata": {
      "needs_background": "light"
     },
     "output_type": "display_data"
    }
   ],
   "source": [
    "vecs = [np.random.randint(-1,board_size,2) for i in range(len(fblocks))]\n",
    "rots = [np.random.randint(0,4) for i in range(len(fblocks))]\n",
    "\n",
    "settings = [(*vec, rot) for vec,rot in zip(vecs,rots)]\n",
    "\n",
    "plot_blocks(fblocks, settings)"
   ]
  },
  {
   "cell_type": "code",
   "execution_count": 6,
   "metadata": {},
   "outputs": [],
   "source": [
    "# brute force it\n",
    "brute_positions_x = np.array(list(range(board_size)))\n",
    "brute_positions_y = brute_positions_x\n",
    "brute_rotations = np.array(list(range(4)))\n",
    "\n",
    "iterables = [brute_positions_x, brute_positions_y, brute_rotations]\n",
    "\n",
    "all_combs = np.array(list(itertools.product(*iterables)))"
   ]
  },
  {
   "cell_type": "code",
   "execution_count": 62,
   "metadata": {},
   "outputs": [],
   "source": [
    "def board_check(blocks):\n",
    "    rblocks = np.array([block[...,:-1] for block in blocks])\n",
    "    flats = np.concatenate(rblocks)\n",
    "    if any(n < 0 for n in flats.ravel()) or any(n >= board_size for n in flats.ravel()):\n",
    "        return False\n",
    "    return True\n",
    "\n",
    "def duplication_check(blocks):\n",
    "    rblocks = np.array([block[...,:-1] for block in blocks])\n",
    "    flats = np.concatenate(rblocks)\n",
    "    mat = np.zeros((board_size, board_size))\n",
    "    for pos in flats:\n",
    "        mat[pos[0]][pos[1]] += 1\n",
    "        \n",
    "    nflats = mat.ravel()\n",
    "    if any(n > 1 for n in nflats.ravel()):\n",
    "        return False\n",
    "    return True\n",
    "\n",
    "def single_check(case):\n",
    "        if np.sum(case[:-1]) % 2 != case[-1]:\n",
    "            return False\n",
    "        return True\n",
    "\n",
    "def fillstyle_check(blocks):\n",
    "    flats = np.concatenate(blocks)       \n",
    "    if any(not single_check(case) for case in flats):\n",
    "        return False\n",
    "    return True\n",
    "\n",
    "def make_checks(blocks):\n",
    "    if not board_check(blocks):\n",
    "        return False\n",
    "    if not duplication_check(blocks):\n",
    "        return False\n",
    "    if not fillstyle_check(blocks):\n",
    "        return False\n",
    "    return True"
   ]
  },
  {
   "cell_type": "code",
   "execution_count": 67,
   "metadata": {},
   "outputs": [],
   "source": [
    "def solution(i, blocks, counter):\n",
    "    for comb in all_combs:\n",
    "        counter +=1 \n",
    "        if i < len(fblocks):\n",
    "            blocks[i] = move_block(fblocks[i], comb)\n",
    "            if i < len(fblocks)-1:\n",
    "                if not make_checks(blocks[:i+1]):\n",
    "                    continue\n",
    "                solution(i+1, blocks, counter)\n",
    "\n",
    "                if isinstance(blocks[-1], float):\n",
    "                    pass\n",
    "                else:\n",
    "                    if not make_checks(blocks):\n",
    "                        continue\n",
    "                    break\n",
    "            else:\n",
    "                if not make_checks(blocks):\n",
    "                    continue\n",
    "                break\n",
    "    return blocks, counter"
   ]
  },
  {
   "cell_type": "code",
   "execution_count": 68,
   "metadata": {},
   "outputs": [
    {
     "name": "stdout",
     "output_type": "stream",
     "text": [
      "Elapsed time 25.87 s\n",
      "Tested 0 combinations\n"
     ]
    }
   ],
   "source": [
    "start_time = time.time()\n",
    "\n",
    "blocks = np.zeros(len(fblocks)).astype(object)\n",
    "counter = 0\n",
    "\n",
    "output, c = solution(0, blocks, counter)\n",
    "\n",
    "elapsed_time = time.time() - start_time\n",
    "print(f'Elapsed time {elapsed_time:.2f} s')\n",
    "print(f'Tested {c} combinations')"
   ]
  },
  {
   "cell_type": "code",
   "execution_count": 61,
   "metadata": {
    "scrolled": false
   },
   "outputs": [
    {
     "data": {
      "image/png": "[encoded data removed]",
      "text/plain": [
       "<Figure size 720x720 with 1 Axes>"
      ]
     },
     "metadata": {
      "needs_background": "light"
     },
     "output_type": "display_data"
    }
   ],
   "source": [
    "plot_blocks(output)"
   ]
  },
  {
   "cell_type": "code",
   "execution_count": 14,
   "metadata": {},
   "outputs": [],
   "source": [
    "import solution as solution2"
   ]
  },
  {
   "cell_type": "code",
   "execution_count": 17,
   "metadata": {},
   "outputs": [
    {
     "name": "stdout",
     "output_type": "stream",
     "text": [
      "Elapsed time 2.35 s\n",
      "Tested 11711 combinations\n"
     ]
    }
   ],
   "source": [
    "start_time = time.time()\n",
    "\n",
    "blocks = np.zeros(len(fblocks)).astype(object)\n",
    "counter = 0\n",
    "\n",
    "output, c = solution2.solution(0,blocks, counter)\n",
    "\n",
    "elapsed_time = time.time() - start_time\n",
    "print(f'Elapsed time {elapsed_time:.2f} s')\n",
    "print(f'Tested {c} combinations')"
   ]
  },
  {
   "cell_type": "code",
   "execution_count": null,
   "metadata": {},
   "outputs": [],
   "source": []
  }
 ],
 "metadata": {
  "kernelspec": {
   "display_name": "Python 3",
   "language": "python",
   "name": "python3"
  },
  "language_info": {
   "codemirror_mode": {
    "name": "ipython",
    "version": 3
   },
   "file_extension": ".py",
   "mimetype": "text/x-python",
   "name": "python",
   "nbconvert_exporter": "python",
   "pygments_lexer": "ipython3",
   "version": "3.6.8"
  }
 },
 "nbformat": 4,
 "nbformat_minor": 2
}
