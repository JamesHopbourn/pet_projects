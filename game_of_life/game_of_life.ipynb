{
 "cells": [
  {
   "cell_type": "code",
   "execution_count": 1,
   "metadata": {},
   "outputs": [],
   "source": [
    "import numpy as np\n",
    "import matplotlib.pylab as plt\n",
    "import matplotlib.animation as animation "
   ]
  },
  {
   "cell_type": "code",
   "execution_count": 3,
   "metadata": {},
   "outputs": [],
   "source": [
    "def sum_neigbors_dead_wall(X,i,j):\n",
    "    lsum = 0\n",
    "    h, w = X.shape\n",
    "    for ii in [-1,0,1]:\n",
    "        for jj in [-1,0,1]:\n",
    "            if ii == 0 and jj == 0:\n",
    "                continue\n",
    "            if i+ii < 0 or j+jj < 0 or i+ii >= h or j+jj >= w:\n",
    "                continue\n",
    "            lsum += X[i+ii, j+jj]\n",
    "    return lsum\n",
    "\n",
    "\n",
    "def life_choice(state, neighbors):\n",
    "    if state == 1:\n",
    "        if neighbors < 2 or neighbors > 3:\n",
    "            return 0\n",
    "    else:\n",
    "        if neighbors == 3:\n",
    "            return 1\n",
    "    \n",
    "    return state\n",
    "    \n",
    "\n",
    "def life_step(X_old):\n",
    "    h, w = X_old.shape\n",
    "    X_new = np.zeros_like(X_old)\n",
    "    \n",
    "    for i in range(h):\n",
    "        for j in range(w):\n",
    "            X_new[i,j] = life_choice(X_old[i,j], sum_neigbors_dead_wall(X_old,i,j))\n",
    "    return X_new\n",
    "\n",
    "\n",
    "blinker = np.zeros((5,5))\n",
    "blinker[2,1:4] = 1"
   ]
  },
  {
   "cell_type": "code",
   "execution_count": 5,
   "metadata": {},
   "outputs": [
    {
     "data": {
      "image/png": "[encoded data removed]",
      "text/plain": [
       "<Figure size 432x288 with 1 Axes>"
      ]
     },
     "metadata": {},
     "output_type": "display_data"
    }
   ],
   "source": [
    "X = np.random.choice([0,1], (100,100))\n",
    "\n",
    "fig = plt.figure()\n",
    "im = plt.imshow(X)\n",
    "\n",
    "def updatefig(*args):\n",
    "    global X\n",
    "    X = life_step(X)\n",
    "    im.set_array(X)\n",
    "    return im\n",
    "\n",
    "ani = animation.FuncAnimation(fig, updatefig, interval=50)\n",
    "plt.show()"
   ]
  },
  {
   "cell_type": "code",
   "execution_count": null,
   "metadata": {},
   "outputs": [],
   "source": []
  }
 ],
 "metadata": {
  "kernelspec": {
   "display_name": "Python 3",
   "language": "python",
   "name": "python3"
  },
  "language_info": {
   "codemirror_mode": {
    "name": "ipython",
    "version": 3
   },
   "file_extension": ".py",
   "mimetype": "text/x-python",
   "name": "python",
   "nbconvert_exporter": "python",
   "pygments_lexer": "ipython3",
   "version": "3.6.5"
  }
 },
 "nbformat": 4,
 "nbformat_minor": 2
}
