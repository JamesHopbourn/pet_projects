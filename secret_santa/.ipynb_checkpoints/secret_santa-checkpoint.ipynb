{
 "cells": [
  {
   "cell_type": "code",
   "execution_count": 76,
   "metadata": {},
   "outputs": [],
   "source": [
    "import numpy as np\n",
    "import numpy_indexed as npi\n",
    "\n",
    "from email.message import EmailMessage\n",
    "from email.headerregistry import Address\n",
    "import os\n",
    "import smtplib"
   ]
  },
  {
   "cell_type": "code",
   "execution_count": 77,
   "metadata": {},
   "outputs": [],
   "source": [
    "names = np.array(['Matic', 'Neža', 'Denis', 'Nena', 'Tilen', 'Živa', 'Vid', 'Maruša', 'Tim', 'Ina'])\n",
    "emails = np.array(['lubej.matic@gmail.com', 'neza.arambasic@gmail.com', 'sanko.denis@gmail.com', 'milena.kajba@gmail.com', \n",
    "          'tomse.tilen@gmail.com', 'nothinfancyreally@gmail.com', 'matarael@gmail.com', 'marusa.lazicki@gmail.com', \n",
    "          'tim.verbovsek@gmail.com', 'zupan.ina@gmail.com'\n",
    "         ])\n",
    "\n",
    "namesNum = np.array(list(range(len(names))))\n",
    "names0 = namesNum.copy();\n",
    "\n",
    "couples = np.array([[i, i+1] for i in range(0,len(names),2)])\n",
    "\n",
    "random_gifts = [\"Land Shark\", \"My Cinema Lightbox\", \"Owl Eyeglasses Holder\", \"Stoneware Swirl Sponge Holder\", \"Cosmic Exploration Chart\", \"Love Tuner\", \"Plush Organs\", \"Men's Taco Socks\", \"Cheese & Crackers Serving Board\", \"Eco-Dough\", \"Spotted Wellies Garden Ducks\", \"Coat of Arms - Personalized Birth Announcement\", \"Latitude Longitude Pendant\", \"Bat on a Branch\", \"Glass Flower Garden Centerpiece\", \"Llamarama Large Zipper Pouch\", \"Porcelain Lily Ring Holder\", \"Bike Chain Bowl\", \"Mates For Life\", \"The Mug with a Hoop\", \"Beta Release Babysuit\", \"Bunny Felt Baby Slippers\", \"Bedside Essentials Pocket\", \"Personalized Solar System Wall Art\", \"Microwave Popcorn Popper\", \"Intersection of Love - Photo Print\", \"Recycled Glass Elephants Nightlight\", \"Home Brew Journal\", \"Giraffe Family Bookends\", \"Bad Dog Wisdom Tumblers\", \"Land Shark\", \"Adventurer Multi-Tool Clip Watch\", \"Beta Release Babysuit\", \"Chalkboard Birth Announcement Pillows\", \"Tree Ring Pen\", \"Football Stadium Art\", \"Major Scale Musical Wine Glasses - Set of 2\", \"Personalized M Is for Me Book\", \"Shadow Heart Necklace\", \"The Mug with a Hoop\", \"Big Personality Desk Signs\", \"Kantha Chandeliers Earrings\", \"Berry Buddy\", \"Yours\", \"Mine\", \"and Ours Engraved Decanter Set\", \"Goto Venetian Wine Glasses - Set of 6\", \"Personalized Goodnight Little Me Book\", \"Sling Beverage Cooler\", \"Artisanal Bamboo Salt Chest\", \"Handmade Pucket\", \"Personalized Solar System Wall Art\", \"Home Brew Journal\", \"Men's Taco Socks\", \"Jeweled Nest Necklaces\", \"Little Patient\", \"Men's Herbal Warming Slippers\", \"Lucy's Socks - Set of 6\", \"Pistachio Pedestal\", \"Smiling Jizo Garden Sculpture\", \"Long Distance Touch Lamp\", \"Aurora Smart Lighting Panels\"]"
   ]
  },
  {
   "cell_type": "code",
   "execution_count": 78,
   "metadata": {},
   "outputs": [],
   "source": [
    "case2017 = [\n",
    "    [5,2],\n",
    "    [4,6],\n",
    "    [0,3],\n",
    "    [3,7],\n",
    "    [7,8],\n",
    "    [8,5]\n",
    "]\n",
    "\n",
    "case2018 = [\n",
    "    [4,7],\n",
    "    [0,4],\n",
    "    [5,0],\n",
    "    [3,5],\n",
    "    [8,3],\n",
    "    [6,8],\n",
    "    [2,6],\n",
    "    [7,2]\n",
    "]"
   ]
  },
  {
   "cell_type": "code",
   "execution_count": 79,
   "metadata": {},
   "outputs": [],
   "source": [
    "exclusions = np.vstack([couples,np.flip(couples, axis=1),case2017, case2018]).tolist()"
   ]
  },
  {
   "cell_type": "code",
   "execution_count": 80,
   "metadata": {},
   "outputs": [],
   "source": [
    "nextLoop = True\n",
    "mixTimes = np.random.randint(10,100);\n",
    "\n",
    "for i in range(mixTimes+1):\n",
    "    while nextLoop:\n",
    "        temp = np.random.choice(namesNum, size=len(namesNum), replace=False)\n",
    "        temp = np.append(temp, temp[0])\n",
    "        data = np.array([[temp[i], temp[i+1]] for i in range(len(temp)-1)])\n",
    "        case = npi.intersection(data, exclusions)\n",
    "        newNames = names[temp]\n",
    "        newEmails = emails[temp]\n",
    "        \n",
    "        if len(case) == 0:\n",
    "            nextLoop = False"
   ]
  },
  {
   "cell_type": "code",
   "execution_count": 81,
   "metadata": {},
   "outputs": [],
   "source": [
    "def get_emails(newNames, newEmails):\n",
    "    msg_list = []\n",
    "    for i in range(len(newNames)-1):\n",
    "        msg = EmailMessage()\n",
    "        msg['From'] = 'secret.santa.assless.chaps@gmail.com'\n",
    "        msg['To'] = newEmails[i]\n",
    "        msg['Subject'] = 'Secret Santa has been matched!'\n",
    "        body  = f'Dear {newNames[i]},\\n\\nthis year you get:\\n\\n*********************\\n{newNames[i+1]}\\n*********************\\n\\n'\n",
    "        body += f'Budget: 20 €\\n\\n'\n",
    "        body += f'Having trouble finding that one perfect gift for this special person? Fear not, here is '\n",
    "        body += f'a gift idea, which was randomly chosen from a very carefully constructed (totally not random at all) list, tailored '\n",
    "        body += f'specifically to this person:\\n\\n* {np.random.choice(random_gifts)}\\n\\n'\n",
    "        body += f'You\\'re a very special Santa\\'s little helper!'\n",
    "        \n",
    "        msg.set_content(body)\n",
    "        msg_list.append(msg)\n",
    "    return msg_list"
   ]
  },
  {
   "cell_type": "code",
   "execution_count": 82,
   "metadata": {},
   "outputs": [],
   "source": [
    "mlist = get_emails(newNames, newEmails)"
   ]
  },
  {
   "cell_type": "code",
   "execution_count": 85,
   "metadata": {},
   "outputs": [],
   "source": [
    "for m in mlist:\n",
    "    with smtplib.SMTP('smtp.gmail.com', port=587) as smtp_server:\n",
    "        smtp_server.ehlo()\n",
    "        smtp_server.starttls()\n",
    "        smtp_server.login('secret.santa.assless.chaps', 'dokruecprhnauywg')\n",
    "        smtp_server.send_message(m)"
   ]
  },
  {
   "cell_type": "code",
   "execution_count": null,
   "metadata": {},
   "outputs": [],
   "source": []
  }
 ],
 "metadata": {
  "kernelspec": {
   "display_name": "Python 3",
   "language": "python",
   "name": "python3"
  },
  "language_info": {
   "codemirror_mode": {
    "name": "ipython",
    "version": 3
   },
   "file_extension": ".py",
   "mimetype": "text/x-python",
   "name": "python",
   "nbconvert_exporter": "python",
   "pygments_lexer": "ipython3",
   "version": "3.7.5"
  }
 },
 "nbformat": 4,
 "nbformat_minor": 2
}
