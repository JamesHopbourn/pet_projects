{
 "cells": [
  {
   "cell_type": "code",
   "execution_count": 2,
   "metadata": {},
   "outputs": [],
   "source": [
    "import numpy as np\n",
    "import matplotlib.pyplot as plt\n",
    "\n",
    "from glob import glob\n",
    "import pandas as pd\n",
    "from tqdm.auto import tqdm\n",
    "import pickle"
   ]
  },
  {
   "cell_type": "code",
   "execution_count": 3,
   "metadata": {},
   "outputs": [],
   "source": [
    "df0 = pd.read_json('data/spiderbase_0.json')\n",
    "df0.rename(columns={\"link\": \"piwigo_link\"}, inplace=True)\n",
    "df1 = pd.read_json('data/spiderbase_1.json')\n",
    "df1.rename(columns={\"link\": \"nmbe_link\"}, inplace=True)"
   ]
  },
  {
   "cell_type": "code",
   "execution_count": 4,
   "metadata": {},
   "outputs": [],
   "source": [
    "# merge split family classes\n",
    "df0.loc[:,'family'] = [x.split(' ')[0] for x in df0.family]"
   ]
  },
  {
   "cell_type": "code",
   "execution_count": 5,
   "metadata": {},
   "outputs": [
    {
     "data": {
      "application/vnd.jupyter.widget-view+json": {
       "model_id": "5600a4e6757e43f8a555a64b3f6085cd",
       "version_major": 2,
       "version_minor": 0
      },
      "text/plain": [
       "HBox(children=(FloatProgress(value=0.0, max=1465.0), HTML(value='')))"
      ]
     },
     "metadata": {},
     "output_type": "display_data"
    },
    {
     "name": "stdout",
     "output_type": "stream",
     "text": [
      "\n"
     ]
    }
   ],
   "source": [
    "data0 = []\n",
    "for species_name in tqdm(df0.species):\n",
    "    fname = f'data/image_data_0/{species_name.replace(\" \",\"-\").lower()}.pkl'\n",
    "    with open(fname,'rb') as f:\n",
    "        tdict = pickle.load(f).copy()\n",
    "        tdict['habitus'] = tdict.pop('general')\n",
    "        tdict['pedipalp'] = tdict.pop('palpe')\n",
    "        data0.append(tdict)\n",
    "    \n",
    "df0['piwigo'] = data0"
   ]
  },
  {
   "cell_type": "code",
   "execution_count": 6,
   "metadata": {},
   "outputs": [
    {
     "data": {
      "application/vnd.jupyter.widget-view+json": {
       "model_id": "72c3f02d3027434fb2c78ca3acc5919b",
       "version_major": 2,
       "version_minor": 0
      },
      "text/plain": [
       "HBox(children=(FloatProgress(value=0.0, max=5231.0), HTML(value='')))"
      ]
     },
     "metadata": {},
     "output_type": "display_data"
    },
    {
     "name": "stdout",
     "output_type": "stream",
     "text": [
      "\n"
     ]
    }
   ],
   "source": [
    "data1 = []\n",
    "for species_name in tqdm(df1.species):\n",
    "    fname = f'data/image_data_1/{species_name.replace(\" \",\"-\").lower()}.pkl'\n",
    "    with open(fname,'rb') as f:\n",
    "        data1.append(pickle.load(f).copy())\n",
    "    \n",
    "df1['nmbe'] = data1"
   ]
  },
  {
   "cell_type": "code",
   "execution_count": 7,
   "metadata": {},
   "outputs": [],
   "source": [
    "empty_dict = {'habitus': [], 'epigyne': [], 'vulve': [], 'pedipalp': [], 'other': []}"
   ]
  },
  {
   "cell_type": "code",
   "execution_count": 34,
   "metadata": {
    "scrolled": true
   },
   "outputs": [
    {
     "data": {
      "application/vnd.jupyter.widget-view+json": {
       "model_id": "cafa3b44a64f45f49cd4a56a9dbcae49",
       "version_major": 2,
       "version_minor": 0
      },
      "text/plain": [
       "HBox(children=(FloatProgress(value=0.0, max=1465.0), HTML(value='')))"
      ]
     },
     "metadata": {},
     "output_type": "display_data"
    },
    {
     "name": "stdout",
     "output_type": "stream",
     "text": [
      "\n"
     ]
    }
   ],
   "source": [
    "dd = df1.copy()\n",
    "dd.loc[:, 'piwigo_link'] = np.full(len(dd), 'NONE')\n",
    "dd.loc[:, 'piwigo'] = np.full(len(dd), empty_dict)\n",
    "\n",
    "new_df = []\n",
    "for family, genus, species, piwigo_link, piwigo in tqdm(zip(*df0.values.T), total = len(df0.values)):\n",
    "    if species == genus:\n",
    "        if '-x' in genus:\n",
    "            genus_part = genus.split('-')[0].lower()\n",
    "            subset = dd.loc[(dd.family == family) & ([genus_part in x for x in dd.genus])].copy()\n",
    "            subset = subset.loc[~np.in1d(subset.genus, df0.loc[(df0.family == family) & ([genus_part in x for x in df0.genus])].genus)]\n",
    "            subset = subset.loc[~np.in1d(subset.species, df0.loc[(df0.family == family) & ([genus_part in x for x in df0.genus])].species)]\n",
    "            subset['piwigo_link'] = np.full(len(subset), piwigo_link)\n",
    "            subset['piwigo'] = np.full(len(subset), piwigo)\n",
    "            new_df.append(subset)\n",
    "        elif 'x-' in genus:\n",
    "            genus_part = genus.split('-')[1].lower()\n",
    "            subset = dd.loc[(dd.family == family) & ([genus_part in x for x in dd.genus])].copy()\n",
    "            subset = subset.loc[~np.in1d(subset.genus, df0.loc[(df0.family == family) & ([genus_part in x for x in df0.genus])].genus)]\n",
    "            subset = subset.loc[~np.in1d(subset.species, df0.loc[(df0.family == family) & ([genus_part in x for x in df0.genus])].species)]\n",
    "            subset['piwigo_link'] = np.full(len(subset), piwigo_link)\n",
    "            subset['piwigo'] = np.full(len(subset), piwigo)\n",
    "            new_df.append(subset)\n",
    "        else:\n",
    "            subset = dd.loc[(dd.family == family) & (dd.genus == genus)].copy()\n",
    "            subset = subset.loc[~np.in1d(subset.species, df0.loc[(df0.family == family) & (df0.genus == genus)].species)]\n",
    "            subset = subset.loc[['x-' not in x and '-x' not in x for x in subset.genus]]\n",
    "            subset['piwigo_link'] = np.full(len(subset), piwigo_link)\n",
    "            subset['piwigo'] = np.full(len(subset), piwigo)\n",
    "            new_df.append(subset)\n",
    "    else:\n",
    "        subset = dd.loc[(dd.family == family) & (dd.genus == genus) & (dd.species == species)]\n",
    "        if len(subset) == 1:\n",
    "            mask = (dd.family == family) & (dd.genus == genus) & (dd.species == species)\n",
    "            dd.loc[mask, 'piwigo_link'] = np.full(np.count_nonzero(mask), piwigo_link)\n",
    "            dd.loc[mask, 'piwigo'] = np.full(np.count_nonzero(mask), piwigo)\n",
    "        elif len(subset) == 0:\n",
    "            mask = (df0.family == family) & (df0.genus == genus) & (df0.species == species)\n",
    "            subset = df0.loc[mask].copy()\n",
    "            subset['nmbe_link'] = np.full(len(subset), 'NONE')\n",
    "            subset['nmbe'] = np.full(len(subset), empty_dict)\n",
    "            new_df.append(subset)\n",
    "        else:\n",
    "            print(f'Error with: {family}, {genus}, {species}')\n",
    "\n",
    "new_df = pd.concat(new_df, ignore_index=True)\n",
    "database = pd.concat([dd, new_df], ignore_index=True).sort_values(by=['family', 'genus', 'species']).reset_index(drop=True)\n",
    "\n",
    "# del dd\n",
    "# del subset\n",
    "# del new_df"
   ]
  },
  {
   "cell_type": "code",
   "execution_count": 39,
   "metadata": {},
   "outputs": [],
   "source": [
    "database.to_pickle('data/full_database.pkl')"
   ]
  },
  {
   "cell_type": "code",
   "execution_count": 40,
   "metadata": {},
   "outputs": [],
   "source": [
    "database = pd.read_pickle('data/full_database.pkl')"
   ]
  }
 ],
 "metadata": {
  "kernelspec": {
   "display_name": "Python 3",
   "language": "python",
   "name": "python3"
  },
  "language_info": {
   "codemirror_mode": {
    "name": "ipython",
    "version": 3
   },
   "file_extension": ".py",
   "mimetype": "text/x-python",
   "name": "python",
   "nbconvert_exporter": "python",
   "pygments_lexer": "ipython3",
   "version": "3.7.6"
  }
 },
 "nbformat": 4,
 "nbformat_minor": 4
}
