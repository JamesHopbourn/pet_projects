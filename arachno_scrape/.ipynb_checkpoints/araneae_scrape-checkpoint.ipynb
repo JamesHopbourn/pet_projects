{
 "cells": [
  {
   "cell_type": "code",
   "execution_count": 1,
   "metadata": {},
   "outputs": [],
   "source": [
    "import requests\n",
    "import urllib.request\n",
    "import time\n",
    "from bs4 import BeautifulSoup\n",
    "import numpy as np\n",
    "import re\n",
    "import matplotlib.pyplot as plt\n",
    "\n",
    "from sklearn.model_selection import train_test_split\n",
    "from sklearn.metrics import mean_squared_error\n",
    "from sklearn.model_selection import GridSearchCV"
   ]
  },
  {
   "cell_type": "code",
   "execution_count": 114,
   "metadata": {},
   "outputs": [],
   "source": [
    "families_url = 'https://arachno.piwigo.com/index?/category/familles'\n",
    "headers = {\n",
    "    'User-Agent': '*',\n",
    "    'Accept': 'text/html,application/xhtml+xml,application/xml;q=0.9,*/*;q=0.8',\n",
    "    'Accept-Language': 'en-US,en;q=0.5',\n",
    "    'Accept-Encoding': 'gzip, deflate',\n",
    "    'Connection': 'keep-alive',\n",
    "    'Upgrade-Insecure-Requests': '1',\n",
    "}\n",
    "\n",
    "s = requests.Session()\n",
    "s.headers.update(headers)\n",
    "\n",
    "request = s.get(families_url,allow_redirects=False)\n",
    "soup = BeautifulSoup(request.text, 'html.parser')"
   ]
  },
  {
   "cell_type": "code",
   "execution_count": 184,
   "metadata": {},
   "outputs": [],
   "source": [
    "family_info = []\n",
    "\n",
    "for s in soup.find_all('li')[0]('li'):\n",
    "    genus_info = []\n",
    "    try:\n",
    "        if s['class'][0] == 'liClosed':\n",
    "            for t in s('li'):\n",
    "                genus_info.append([t.a.getText(), f'https://arachno.piwigo.com/{t.a[\"href\"]}'])\n",
    "            family_info.append([s.a.getText(), f'https://arachno.piwigo.com/{s.a[\"href\"]}', genus_info])\n",
    "    except:\n",
    "        None\n",
    "        \n",
    "family_info = np.array(family_info)"
   ]
  },
  {
   "cell_type": "code",
   "execution_count": 189,
   "metadata": {},
   "outputs": [
    {
     "data": {
      "text/plain": [
       "array(['Agelenidae', 'Amaurobiidae', 'Anapidae', 'Anyphaenidae',\n",
       "       'Araneidae', 'Atypidae', 'Cheiracanthiidae', 'Clubionidae',\n",
       "       'Ctenizidae', 'Cybaeidae', 'Dictynidae', 'Dysderidae', 'Eresidae',\n",
       "       'Filistatidae', 'Gnaphosidae', 'Hahniidae', 'Leptonetidae',\n",
       "       'Linyphiidae  A-D', 'Linyphiidae  E-Ma', 'Linyphiidae  Me-P',\n",
       "       'Linyphiidae  Q-Z', 'Linyphiidae - clés', 'Liocranidae',\n",
       "       'Lycosidae', 'Macrothelidae', 'Mimetidae', 'Miturgidae',\n",
       "       'Mysmenidae', 'Nemesiidae', 'Nesticidae', 'Oecobiidae',\n",
       "       'Oonopidae', 'Oxyopidae', 'Philodromidae', 'Pholcidae',\n",
       "       'Phrurolithidae', 'Pimoidae', 'Pisauridae', 'Salticidae',\n",
       "       'Scytodidae', 'Segestriidae', 'Sicariidae', 'Sparassidae',\n",
       "       'Synaphridae', 'Telemidae', 'Tetragnathidae', 'Theridiidae',\n",
       "       'Theridiosomatidae', 'Thomisidae', 'Titanoecidae', 'Trachelidae',\n",
       "       'Uloboridae', 'Zodariidae', 'Zoropsidae'], dtype=object)"
      ]
     },
     "execution_count": 189,
     "metadata": {},
     "output_type": "execute_result"
    }
   ],
   "source": [
    "family_info[:,0]"
   ]
  },
  {
   "cell_type": "code",
   "execution_count": null,
   "metadata": {},
   "outputs": [],
   "source": [
    "https://araneae.nmbe.ch/"
   ]
  }
 ],
 "metadata": {
  "kernelspec": {
   "display_name": "Python 3",
   "language": "python",
   "name": "python3"
  },
  "language_info": {
   "codemirror_mode": {
    "name": "ipython",
    "version": 3
   },
   "file_extension": ".py",
   "mimetype": "text/x-python",
   "name": "python",
   "nbconvert_exporter": "python",
   "pygments_lexer": "ipython3",
   "version": "3.7.5"
  }
 },
 "nbformat": 4,
 "nbformat_minor": 4
}
