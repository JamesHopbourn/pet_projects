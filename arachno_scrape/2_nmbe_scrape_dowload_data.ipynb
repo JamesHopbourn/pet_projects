{
 "cells": [
  {
   "cell_type": "code",
   "execution_count": 1,
   "metadata": {},
   "outputs": [],
   "source": [
    "import requests\n",
    "import urllib.request\n",
    "import time\n",
    "from bs4 import BeautifulSoup, SoupStrainer\n",
    "import numpy as np\n",
    "import re\n",
    "import matplotlib.pyplot as plt\n",
    "\n",
    "from glob import glob\n",
    "\n",
    "import pandas as pd\n",
    "from tqdm.auto import tqdm\n",
    "from bs4 import BeautifulSoup\n",
    "\n",
    "from time import sleep\n",
    "\n",
    "from skimage import io\n",
    "\n",
    "from concurrent.futures import ThreadPoolExecutor\n",
    "\n",
    "import json\n",
    "import pickle\n",
    "\n",
    "import os\n",
    "\n",
    "from datetime import datetime"
   ]
  },
  {
   "cell_type": "code",
   "execution_count": 2,
   "metadata": {},
   "outputs": [],
   "source": [
    "def get_soup_simple(url, strain_name=None, strain_attrs=None):\n",
    "    response = requests.get(url)#, headers=headers, proxies=proxies)\n",
    "    if strain_name is None and strain_attrs is None:\n",
    "        soup = BeautifulSoup(response.text, 'lxml')\n",
    "    elif strain_attrs is None:\n",
    "        strainer = SoupStrainer(strain_name)\n",
    "        soup = BeautifulSoup(response.text, 'lxml', parse_only=strainer)\n",
    "    else:\n",
    "        strainer = SoupStrainer(strain_name, strain_attrs)\n",
    "        soup = BeautifulSoup(response.text, 'lxml', parse_only=strainer)\n",
    "    return soup"
   ]
  },
  {
   "cell_type": "code",
   "execution_count": 3,
   "metadata": {},
   "outputs": [],
   "source": [
    "base_url = 'https://araneae.nmbe.ch/'\n",
    "families_url = base_url + 'list/families'\n",
    "\n",
    "main_page = get_soup_simple(families_url, 'tbody')\n",
    "families = [x.text for x in main_page.tbody('b')]\n",
    "links_to_species_list = [base_url+x['href'] for x in main_page.tbody('a') if x.text.lower() == 'species']"
   ]
  },
  {
   "cell_type": "markdown",
   "metadata": {},
   "source": [
    "## Pull all species names"
   ]
  },
  {
   "cell_type": "code",
   "execution_count": 4,
   "metadata": {},
   "outputs": [
    {
     "data": {
      "application/vnd.jupyter.widget-view+json": {
       "model_id": "559456e5669148baa4f1ba58b9a8acd1",
       "version_major": 2,
       "version_minor": 0
      },
      "text/plain": [
       "HBox(children=(FloatProgress(value=0.0, max=64.0), HTML(value='')))"
      ]
     },
     "metadata": {},
     "output_type": "display_data"
    },
    {
     "name": "stdout",
     "output_type": "stream",
     "text": [
      "\n"
     ]
    },
    {
     "data": {
      "text/html": [
       "<div>\n",
       "<style scoped>\n",
       "    .dataframe tbody tr th:only-of-type {\n",
       "        vertical-align: middle;\n",
       "    }\n",
       "\n",
       "    .dataframe tbody tr th {\n",
       "        vertical-align: top;\n",
       "    }\n",
       "\n",
       "    .dataframe thead th {\n",
       "        text-align: right;\n",
       "    }\n",
       "</style>\n",
       "<table border=\"1\" class=\"dataframe\">\n",
       "  <thead>\n",
       "    <tr style=\"text-align: right;\">\n",
       "      <th></th>\n",
       "      <th>family</th>\n",
       "      <th>genus</th>\n",
       "      <th>species</th>\n",
       "      <th>link</th>\n",
       "    </tr>\n",
       "  </thead>\n",
       "  <tbody>\n",
       "    <tr>\n",
       "      <th>0</th>\n",
       "      <td>Agelenidae</td>\n",
       "      <td>Agelena</td>\n",
       "      <td>Agelena agelenoides</td>\n",
       "      <td>https://araneae.nmbe.ch//data/2235</td>\n",
       "    </tr>\n",
       "    <tr>\n",
       "      <th>1</th>\n",
       "      <td>Agelenidae</td>\n",
       "      <td>Agelena</td>\n",
       "      <td>Agelena atlantea</td>\n",
       "      <td>https://araneae.nmbe.ch//data/5412</td>\n",
       "    </tr>\n",
       "    <tr>\n",
       "      <th>2</th>\n",
       "      <td>Agelenidae</td>\n",
       "      <td>Agelena</td>\n",
       "      <td>Agelena canariensis</td>\n",
       "      <td>https://araneae.nmbe.ch//data/5413</td>\n",
       "    </tr>\n",
       "    <tr>\n",
       "      <th>3</th>\n",
       "      <td>Agelenidae</td>\n",
       "      <td>Agelena</td>\n",
       "      <td>Agelena labyrinthica</td>\n",
       "      <td>https://araneae.nmbe.ch//data/637</td>\n",
       "    </tr>\n",
       "    <tr>\n",
       "      <th>4</th>\n",
       "      <td>Agelenidae</td>\n",
       "      <td>Agelena</td>\n",
       "      <td>Agelena longipes</td>\n",
       "      <td>https://araneae.nmbe.ch//data/2236</td>\n",
       "    </tr>\n",
       "  </tbody>\n",
       "</table>\n",
       "</div>"
      ],
      "text/plain": [
       "       family    genus               species  \\\n",
       "0  Agelenidae  Agelena   Agelena agelenoides   \n",
       "1  Agelenidae  Agelena      Agelena atlantea   \n",
       "2  Agelenidae  Agelena   Agelena canariensis   \n",
       "3  Agelenidae  Agelena  Agelena labyrinthica   \n",
       "4  Agelenidae  Agelena      Agelena longipes   \n",
       "\n",
       "                                 link  \n",
       "0  https://araneae.nmbe.ch//data/2235  \n",
       "1  https://araneae.nmbe.ch//data/5412  \n",
       "2  https://araneae.nmbe.ch//data/5413  \n",
       "3   https://araneae.nmbe.ch//data/637  \n",
       "4  https://araneae.nmbe.ch//data/2236  "
      ]
     },
     "execution_count": 4,
     "metadata": {},
     "output_type": "execute_result"
    }
   ],
   "source": [
    "info = []\n",
    "\n",
    "for family, link_to_species_list in tqdm(zip(families, links_to_species_list), total=len(families)):\n",
    "    sleep(0.1)\n",
    "    f_data = get_soup_simple(link_to_species_list, 'tbody')\n",
    "    \n",
    "    links_to_species = [base_url + x['href'] for x in f_data('a') if 'data' in x['href']]\n",
    "    data_strings = [x.text for x in f_data('em')]\n",
    "    species_list = []\n",
    "    for data_string in data_strings:\n",
    "        if any(x.isupper() for x in data_string):\n",
    "            genus = data_string\n",
    "            continue\n",
    "        else:\n",
    "            species = data_string\n",
    "        species_list.append([genus, species])\n",
    "    species_list = np.array(species_list)\n",
    "\n",
    "    for genus, species, species_link in zip(*species_list.T, links_to_species):\n",
    "        info.append([family, genus, genus + ' ' + species, species_link])\n",
    "info = np.array(info)\n",
    "\n",
    "df = pd.DataFrame(info, columns=['family', 'genus', 'species', 'link'])\n",
    "df.head()"
   ]
  },
  {
   "cell_type": "code",
   "execution_count": 6,
   "metadata": {},
   "outputs": [],
   "source": [
    "df.to_json('data/spiderbase_1.json')"
   ]
  },
  {
   "cell_type": "code",
   "execution_count": 7,
   "metadata": {},
   "outputs": [],
   "source": [
    "df = pd.read_json('data/spiderbase_1.json')"
   ]
  },
  {
   "cell_type": "code",
   "execution_count": 9,
   "metadata": {},
   "outputs": [],
   "source": [
    "def group_images(img_content, species):\n",
    "    groups = {'habitus': [], 'epigyne': [], 'pedipalp': [], 'vulve': [], 'other': []}\n",
    "    for img in img_content:\n",
    "        name = img['name'].lower()\n",
    "        if 'epigyne' in name:\n",
    "            groups['epigyne'].append(img)\n",
    "        elif 'pedipalp' in name:\n",
    "            groups['pedipalp'].append(img)\n",
    "        elif 'vulve' in name:\n",
    "            groups['vulve'].append(img)\n",
    "        elif 'habitus' in name:\n",
    "            groups['habitus'].append(img)\n",
    "        else:\n",
    "            groups['other'].append(img)\n",
    "    return groups\n",
    "    \n",
    "def get_image_metainfo_quick(args):\n",
    "    url, species_name = args\n",
    "    img_content = []\n",
    "    sleep(0.1)\n",
    "    try:\n",
    "        img_data = get_soup_simple(url, 'div', {'class': 'thumbnail'})('div', 'thumbnail')\n",
    "        for dt in img_data:\n",
    "            sleep(0.1)\n",
    "            name = dt.p.text.lstrip()\n",
    "            credits = dt.a['title']\n",
    "            link = base_url+dt.img['src']\n",
    "            image = io.imread(link)\n",
    "            img_content.append({'name': name, 'image': image , 'credits': credits})\n",
    "\n",
    "        groups = group_images(img_content, species_name)\n",
    "        with open(f'data/image_data_1/{species_name.replace(\" \",\"-\").lower()}.pkl','wb') as out_file:\n",
    "            pickle.dump(groups, out_file)\n",
    "        return True, args, ''\n",
    "    except Exception as e:\n",
    "        return False, args, e"
   ]
  },
  {
   "cell_type": "markdown",
   "metadata": {},
   "source": [
    "## Remove data which is deprecated"
   ]
  },
  {
   "cell_type": "code",
   "execution_count": 10,
   "metadata": {},
   "outputs": [],
   "source": [
    "existing_data = glob('data/image_data_1/*.pkl')\n",
    "updated_data = [f'data/image_data_1/{species_name.replace(\" \",\"-\").lower()}.pkl' for species_name in df.species]\n",
    "\n",
    "for data in existing_data:\n",
    "    if data not in updated_data:\n",
    "        print(f'Deleting {data}')\n",
    "        os.system(f'rm -rf {data}')"
   ]
  },
  {
   "cell_type": "markdown",
   "metadata": {},
   "source": [
    "## Download any new data"
   ]
  },
  {
   "cell_type": "code",
   "execution_count": 11,
   "metadata": {},
   "outputs": [
    {
     "data": {
      "application/vnd.jupyter.widget-view+json": {
       "model_id": "112658e51734432991b5a125957696d9",
       "version_major": 2,
       "version_minor": 0
      },
      "text/plain": [
       "HBox(children=(FloatProgress(value=0.0, max=5231.0), HTML(value='')))"
      ]
     },
     "metadata": {},
     "output_type": "display_data"
    },
    {
     "name": "stdout",
     "output_type": "stream",
     "text": [
      "\n"
     ]
    }
   ],
   "source": [
    "arg_list= df[['link', 'species']].values.astype(str)\n",
    "\n",
    "results = []\n",
    "for arg in tqdm(arg_list):\n",
    "    species_name = arg[1]\n",
    "    fname = f'data/image_data_1/{species_name.replace(\" \",\"-\").lower()}.pkl'\n",
    "    if not os.path.isfile(fname):\n",
    "        results.append(get_image_metainfo_quick(arg))"
   ]
  },
  {
   "cell_type": "markdown",
   "metadata": {},
   "source": [
    "## Re-download updated images"
   ]
  },
  {
   "cell_type": "code",
   "execution_count": 12,
   "metadata": {},
   "outputs": [],
   "source": [
    "latest_update = '20-03-2020'\n",
    "latest_update = datetime.strptime(latest_update, '%d-%m-%Y').date()"
   ]
  },
  {
   "cell_type": "code",
   "execution_count": 13,
   "metadata": {},
   "outputs": [
    {
     "name": "stdout",
     "output_type": "stream",
     "text": [
      "Number of parsed pages: 1\n"
     ]
    }
   ],
   "source": [
    "dates = []\n",
    "species = []\n",
    "\n",
    "all_updates = False\n",
    "i = 0\n",
    "\n",
    "while not all_updates:\n",
    "    sleep(0.1)\n",
    "    data = get_soup_simple(f'https://araneae.nmbe.ch/logs?page={i}', 'table', {'class': 'table'})('tr')[1:]\n",
    "    print(f'Number of parsed pages: {i+1}')\n",
    "    dates.extend([datetime.strptime(x.td.text.replace('\\n','').replace(' ',''), '%d-%m-%Y').date() for x in data])\n",
    "    species.extend([x.a.text for x in data])\n",
    "    if dates[-1] < latest_update:\n",
    "        all_updates = True\n",
    "    else:\n",
    "        i += 1\n",
    "        \n",
    "dates = np.array(dates)\n",
    "species = np.array(species)\n",
    "species = np.unique(species[dates > latest_update])"
   ]
  },
  {
   "cell_type": "code",
   "execution_count": 14,
   "metadata": {},
   "outputs": [
    {
     "data": {
      "application/vnd.jupyter.widget-view+json": {
       "model_id": "c4624a09fc074d758e8ebc2768238dcd",
       "version_major": 2,
       "version_minor": 0
      },
      "text/plain": [
       "HBox(children=(FloatProgress(value=0.0, max=4.0), HTML(value='')))"
      ]
     },
     "metadata": {},
     "output_type": "display_data"
    },
    {
     "name": "stdout",
     "output_type": "stream",
     "text": [
      "\n"
     ]
    }
   ],
   "source": [
    "arg_list_update = df[df.species.isin(species)][['link', 'species']].values.astype(str)\n",
    "\n",
    "results = []\n",
    "for arg in tqdm(arg_list_update):\n",
    "    results.append(get_image_metainfo_quick(arg))"
   ]
  },
  {
   "cell_type": "code",
   "execution_count": null,
   "metadata": {},
   "outputs": [],
   "source": []
  }
 ],
 "metadata": {
  "kernelspec": {
   "display_name": "Python 3",
   "language": "python",
   "name": "python3"
  },
  "language_info": {
   "codemirror_mode": {
    "name": "ipython",
    "version": 3
   },
   "file_extension": ".py",
   "mimetype": "text/x-python",
   "name": "python",
   "nbconvert_exporter": "python",
   "pygments_lexer": "ipython3",
   "version": "3.7.6"
  }
 },
 "nbformat": 4,
 "nbformat_minor": 4
}
